{
 "cells": [
  {
   "cell_type": "code",
   "execution_count": 1,
   "metadata": {},
   "outputs": [],
   "source": [
    "from torch.nn import TransformerEncoder, TransformerEncoderLayer, TransformerDecoder, TransformerDecoderLayer\n",
    "from torch.utils.data import DataLoader\n",
    "from torch.utils.data import Dataset\n",
    "from torch.nn import Transformer\n",
    "import torch.nn.functional as F\n",
    "from torch import Tensor\n",
    "from torch import nn\n",
    "import warnings\n",
    "import random\n",
    "import torch\n",
    "import math\n",
    "import json\n",
    "import string\n",
    "from nltk.translate.bleu_score import SmoothingFunction, sentence_bleu\n",
    "from tqdm import tqdm\n",
    "import numpy as np\n",
    "from matplotlib import pyplot as plt\n",
    "# warnings.filterwarnings(\"ignore\")"
   ]
  },
  {
   "cell_type": "code",
   "execution_count": 2,
   "metadata": {},
   "outputs": [
    {
     "name": "stdout",
     "output_type": "stream",
     "text": [
      "[INFO] Current device: Tesla V100-PCIE-32GB , device num:0\n"
     ]
    }
   ],
   "source": [
    "if torch.cuda.is_available():\n",
    "    device = 'cuda:0'\n",
    "    print(\"[INFO] Current device:\", torch.cuda.get_device_name(torch.cuda.current_device()), f\", device num:{torch.cuda.current_device()}\")\n",
    "elif torch.has_mps:\n",
    "    device = 'mps'\n",
    "    print(\"[INFO] Current device: MAC OS Metal Performance Shaders.\")\n",
    "else:\n",
    "    device = 'cpu'\n",
    "    print(\"[INFO] Current device: CPU\")\n",
    "    print(\"*\"*50,\"\\n[WARNING] You may need to change the device to GPU or MPS to get better performance.\")\n",
    "    print(\"*\"*50)\n",
    "device = torch.device(device)"
   ]
  },
  {
   "cell_type": "markdown",
   "metadata": {},
   "source": [
    "# Preparing data"
   ]
  },
  {
   "cell_type": "code",
   "execution_count": 3,
   "metadata": {},
   "outputs": [],
   "source": [
    "char2index = {'sos': 0, 'eos': 1, 'pad': 2, **{char: i + 3 for i, char in enumerate(string.ascii_lowercase)}}\n",
    "index2char = {i: char for char, i in char2index.items()}"
   ]
  },
  {
   "cell_type": "code",
   "execution_count": 4,
   "metadata": {},
   "outputs": [],
   "source": [
    "class SpellCorrectionDataset(Dataset):\n",
    "    def __init__(self, root, split = 'train', padding = 21):\n",
    "        super(SpellCorrectionDataset, self).__init__()\n",
    "        self.data, self.targets = self.load_data(root, split)\n",
    "        self.padding = padding\n",
    "\n",
    "    def load_data(self, root, split):\n",
    "        file_path = f\"{root}/{split}.json\"\n",
    "        with open(file_path, 'r') as file:\n",
    "            data = json.load(file)\n",
    "        input_list, target_list = [], []\n",
    "        for item in data:\n",
    "            input_list.extend(item['input'])\n",
    "            target_list.extend([item['target']] * len(item['input']))\n",
    "            \n",
    "        return input_list, target_list\n",
    "\n",
    "    def tokenize(self, text):\n",
    "        return [char2index.get(char, char2index['pad']) for char in text]\n",
    "\n",
    "    def __len__(self):\n",
    "        return len(self.data)\n",
    "\n",
    "    def __getitem__(self, index):\n",
    "        input_text = self.data[index]\n",
    "        target_text = self.targets[index]\n",
    "        input_ids = [char2index['sos']] + self.tokenize(input_text) + [char2index['eos']] + [char2index['pad']] * (self.padding - len(input_text) - 2)\n",
    "        target_ids = [char2index['sos']] + self.tokenize(target_text) + [char2index['eos']] + [char2index['pad']] * (self.padding - len(target_text) - 2)\n",
    "        return torch.tensor(input_ids, dtype = torch.long), torch.tensor(target_ids, dtype = torch.long)"
   ]
  },
  {
   "cell_type": "code",
   "execution_count": 5,
   "metadata": {},
   "outputs": [],
   "source": [
    "root_path = '../data/'\n",
    "trainset = SpellCorrectionDataset(root_path, split = 'train')\n",
    "trainloader = DataLoader(trainset, batch_size = 16, shuffle = True)\n",
    "valset = SpellCorrectionDataset(root_path, split = 'test')\n",
    "valloader = DataLoader(valset, batch_size = 16, shuffle = False)\n",
    "testset = SpellCorrectionDataset(root_path, split = 'new_test')\n",
    "testloader = DataLoader(testset, batch_size = 16, shuffle = False)"
   ]
  },
  {
   "cell_type": "markdown",
   "metadata": {},
   "source": [
    "# Building the model"
   ]
  },
  {
   "cell_type": "code",
   "execution_count": 6,
   "metadata": {},
   "outputs": [],
   "source": [
    "class PositionalEncoding(nn.Module):\n",
    "\n",
    "    def __init__(self, d_model: int, dropout: float = 0.1, max_len: int = 5000, batch_first: bool = False):\n",
    "        super().__init__()\n",
    "        self.dropout = nn.Dropout(p=dropout)\n",
    "        \n",
    "        position = torch.arange(max_len).unsqueeze(1)\n",
    "        div_term = torch.exp(torch.arange(0, d_model, 2) * (-math.log(10000.0) / d_model))\n",
    "        pe = torch.zeros(max_len, 1, d_model)\n",
    "        pe[:, 0, 0::2] = torch.sin(position * div_term)\n",
    "        pe[:, 0, 1::2] = torch.cos(position * div_term)\n",
    "        self.register_buffer('pe', pe)\n",
    "        self.batch_first = batch_first\n",
    "\n",
    "    def forward(self, x: Tensor) -> Tensor:\n",
    "        if self.batch_first:\n",
    "            x = x.transpose(0, 1)\n",
    "            x = x + self.pe[:x.size(0)]\n",
    "            return self.dropout(x.transpose(0, 1))\n",
    "        else:\n",
    "            x = x + self.pe[:x.size(0)]\n",
    "            return self.dropout(x)"
   ]
  },
  {
   "cell_type": "code",
   "execution_count": 7,
   "metadata": {},
   "outputs": [],
   "source": [
    "class Encoder(nn.Module):\n",
    "    def __init__(self, num_emb, hid_dim, n_layers, n_heads, ff_dim, dropout, max_length = 100):\n",
    "        super(Encoder, self).__init__()\n",
    "        \n",
    "        self.tok_embedding = nn.Embedding(num_emb, hid_dim)\n",
    "        self.pos_embedding = PositionalEncoding(hid_dim, dropout, max_length, batch_first = True)\n",
    "        self.layer = TransformerEncoderLayer(hid_dim, n_heads, ff_dim, dropout, batch_first = True, norm_first = True)\n",
    "        self.encoder = TransformerEncoder(self.layer,  n_layers)\n",
    "\n",
    "    def forward(self, src, src_pad_mask):\n",
    "        src = self.tok_embedding(src)\n",
    "        src = self.pos_embedding(src)\n",
    "        src = self.encoder(src, src_key_padding_mask = src_pad_mask)\n",
    "        return src\n",
    "\n",
    "class Decoder(nn.Module):\n",
    "    def __init__(self, num_emb, hid_dim, n_layers, n_heads, ff_dim, dropout, max_length = 100):\n",
    "        super(Decoder, self).__init__()\n",
    "        \n",
    "        self.tok_embedding = nn.Embedding(num_emb, hid_dim)\n",
    "        self.pos_embedding = PositionalEncoding(hid_dim, dropout, max_length, batch_first = True)\n",
    "        self.layer = TransformerDecoderLayer(hid_dim, n_heads, ff_dim, dropout, activation = 'relu', batch_first = True, norm_first = True)\n",
    "        self.decoder = TransformerDecoder(self.layer, n_layers)\n",
    "        self.linear = nn.Linear(hid_dim, num_emb)\n",
    "\n",
    "    def forward(self, tgt, memory, tgt_mask, tgt_pad_mask, src_pad_mask):\n",
    "        tgt = self.tok_embedding(tgt)\n",
    "        tgt = self.pos_embedding(tgt)\n",
    "        tgt = self.decoder(tgt, memory = memory, tgt_mask = tgt_mask, tgt_key_padding_mask = tgt_pad_mask, memory_key_padding_mask = src_pad_mask)\n",
    "        tgt = self.linear(tgt)\n",
    "        return tgt\n",
    "\n",
    "class TransformerAutoEncoder(nn.Module):\n",
    "    def __init__(self, num_emb, hid_dim, n_layers, n_heads, ff_dim, dropout, max_length = 100, encoder = None):\n",
    "        super(TransformerAutoEncoder, self).__init__()\n",
    "        if encoder is None:\n",
    "            self.encoder = Encoder(num_emb, hid_dim, n_layers, n_heads, ff_dim, dropout, max_length)\n",
    "        else:\n",
    "            self.encoder = encoder\n",
    "        self.decoder = Decoder(num_emb, hid_dim, n_layers, n_heads, ff_dim, dropout, max_length)\n",
    "\n",
    "    def forward(self, src, tgt, src_pad_mask, tgt_mask, tgt_pad_mask):\n",
    "        enc_src = self.encoder(src, src_pad_mask)\n",
    "        out = self.decoder(tgt, enc_src, tgt_mask, tgt_pad_mask, src_pad_mask)\n",
    "        \n",
    "        return out"
   ]
  },
  {
   "cell_type": "code",
   "execution_count": 8,
   "metadata": {},
   "outputs": [],
   "source": [
    "def gen_padding_mask(src, pad_idx):\n",
    "    pad_mask = (src == pad_idx)\n",
    "    return pad_mask\n",
    "\n",
    "def gen_mask(seq):\n",
    "    mask_shape = seq, seq\n",
    "    att_mask = torch.triu(torch.ones(mask_shape), diagonal = 1).bool()\n",
    "    return att_mask\n",
    "\n",
    "def get_index(pred, dim = 2):\n",
    "    return pred.clone().argmax(dim = dim)"
   ]
  },
  {
   "cell_type": "markdown",
   "metadata": {},
   "source": [
    "# Train our spelling correction transformer"
   ]
  },
  {
   "cell_type": "code",
   "execution_count": null,
   "metadata": {},
   "outputs": [],
   "source": [
    "def index_to_char(lis, index2char, remove_token = True):\n",
    "    if remove_token:\n",
    "        lis = \"\".join([index2char[char] for char in lis]).split('eos')[0].replace('sos', '')\n",
    "        return lis\n",
    "    else:\n",
    "        return [index2char[char] for char in lis]"
   ]
  },
  {
   "cell_type": "code",
   "execution_count": 9,
   "metadata": {},
   "outputs": [],
   "source": [
    "def compute_bleu(output, reference):\n",
    "    cc = SmoothingFunction()\n",
    "    if len(reference) == 3:\n",
    "        weights = (0.33, 0.33, 0.33)\n",
    "    else:\n",
    "        weights = (0.25, 0.25, 0.25, 0.25)\n",
    "    return sentence_bleu([reference], output, weights = weights, smoothing_function = cc.method1)"
   ]
  },
  {
   "cell_type": "code",
   "execution_count": 10,
   "metadata": {},
   "outputs": [],
   "source": [
    "def metrics(pred:list, target:list) -> float:\n",
    "    if len(pred) != len(target):\n",
    "        raise ValueError('length of pred and target must be the same')\n",
    "    correct = 0\n",
    "    for i in range(len(pred)):\n",
    "        if pred[i] == target[i]:\n",
    "            correct += 1\n",
    "    return correct / len(pred) * 100"
   ]
  },
  {
   "cell_type": "code",
   "execution_count": 11,
   "metadata": {},
   "outputs": [],
   "source": [
    "def validation(dataloader, model, device, logout = False):\n",
    "    pred_str_list = []\n",
    "    tgt_str_list = []\n",
    "    input_str_list = []\n",
    "    losses = []\n",
    "    bleu_score = []\n",
    "    model.eval()\n",
    "    for src, tgt in dataloader:\n",
    "            src, tgt = src.to(device), tgt.to(device)\n",
    "            \n",
    "            tgt_input = torch.ones_like(tgt) * 2\n",
    "            tgt_input[:, 0] = 0\n",
    "            for i in range(tgt.shape[1] - 1):\n",
    "                src_pad_mask = gen_padding_mask(src, pad_idx = 2).to(device)\n",
    "                tgt_pad_mask = gen_padding_mask(tgt_input, pad_idx = 2).to(device)\n",
    "                tgt_mask = gen_mask(tgt_input.size(1)).to(device)\n",
    "                \n",
    "                pred = model(src, tgt_input, src_pad_mask, tgt_mask, tgt_pad_mask)\n",
    "                \n",
    "                tgt_input[:, i + 1] = get_index(pred)[:, i]\n",
    "                \n",
    "            for i in range (tgt.shape[0]):\n",
    "                pred_str_list.append(index_to_char(tgt_input[i].tolist(), index2char))\n",
    "                tgt_str_list.append(index_to_char(tgt[i].tolist(), index2char))\n",
    "                input_str_list.append(index_to_char(src[i].tolist(), index2char))\n",
    "                if logout:\n",
    "                    print('='*20)\n",
    "                    print(f'input: {input_str_list[-1]}')\n",
    "                    print(f'pred: {pred_str_list[-1]}')\n",
    "                    print(f'target: {tgt_str_list[-1]}')\n",
    "            loss = ce_loss(pred[:, :-1, :].permute(0, 2, 1), tgt[:, 1:])\n",
    "            losses.append(loss.item())\n",
    "            \n",
    "    for b in range(len(input_str_list)):\n",
    "        bleu_score.append(compute_bleu(pred_str_list[b], tgt_str_list[b]))\n",
    "            \n",
    "    model.train()\n",
    "    \n",
    "    acc = metrics(pred_str_list, tgt_str_list)\n",
    "    total_loss = sum(losses) / len(losses)\n",
    "    bleu_score = np.mean(bleu_score)\n",
    "    if logout == False:\n",
    "        if dataloader == valloader:\n",
    "            print(f\"    test_acc:{acc:6.2f}%\", f\"|     test_loss:{total_loss:6.3f}\", f\"| bleu_score: {bleu_score:.3f}\", end = ' | ')\n",
    "            print(f\"[pred: {pred_str_list[0]}, target: {tgt_str_list[0]}]\")\n",
    "        if dataloader == testloader:\n",
    "            print(f\"new_test_acc:{acc:6.2f}%\", f\"| new_test_loss:{total_loss:6.3f}\", f\"| bleu_score: {bleu_score:.3f}\", end = ' | ')\n",
    "            print(f\"[pred: {pred_str_list[0]}, target: {tgt_str_list[0]}]\")\n",
    "    return acc, total_loss, bleu_score"
   ]
  },
  {
   "cell_type": "code",
   "execution_count": 12,
   "metadata": {},
   "outputs": [],
   "source": [
    "embedding_num = 29\n",
    "embedding_dim = 512\n",
    "num_layers = 8\n",
    "num_heads = 8\n",
    "ff_dim = 1024\n",
    "dropout = 0.1\n",
    "\n",
    "model = TransformerAutoEncoder(embedding_num, embedding_dim, num_layers, num_heads, ff_dim, dropout).to(device)\n",
    "optimizer = torch.optim.SGD(model.parameters(), lr = 0.001, momentum = 0.9)\n",
    "scheduler = torch.optim.lr_scheduler.MultiStepLR(optimizer, milestones = [50, 75, 100, 125], gamma = 0.5)\n",
    "ce_loss = nn.CrossEntropyLoss(ignore_index = 2)"
   ]
  },
  {
   "cell_type": "code",
   "execution_count": 13,
   "metadata": {},
   "outputs": [],
   "source": [
    "train_losses, val_losses, test_losses = [], [], []\n",
    "val_bleus, test_bleus = [], []\n",
    "val_accs, test_accs = [], []\n",
    "best_val_acc = 0.0\n",
    "best_test_acc = 0.0\n",
    "best_avg_acc = 0.0"
   ]
  },
  {
   "cell_type": "code",
   "execution_count": 15,
   "metadata": {},
   "outputs": [
    {
     "name": "stderr",
     "output_type": "stream",
     "text": [
      "epoch1: 100%|██████████| 808/808 [03:18<00:00,  4.06iter/s, loss: 2.289]\n"
     ]
    },
    {
     "name": "stdout",
     "output_type": "stream",
     "text": [
      "    test_acc:  2.00% |     test_loss: 2.009 | bleu_score: 0.262 | [pred: contend target: contented]\n",
      "new_test_acc:  4.00% | new_test_loss: 1.906 | bleu_score: 0.249 | [pred: apecerice, target: appreciate]\n"
     ]
    },
    {
     "name": "stderr",
     "output_type": "stream",
     "text": [
      "epoch2: 100%|██████████| 808/808 [03:19<00:00,  4.04iter/s, loss: 1.330]\n"
     ]
    },
    {
     "name": "stdout",
     "output_type": "stream",
     "text": [
      "    test_acc:  8.00% |     test_loss: 2.093 | bleu_score: 0.413 | [pred: contented target: contented]\n",
      "new_test_acc:  4.00% | new_test_loss: 1.423 | bleu_score: 0.385 | [pred: apprciate, target: appreciate]\n"
     ]
    },
    {
     "name": "stderr",
     "output_type": "stream",
     "text": [
      "epoch3: 100%|██████████| 808/808 [03:20<00:00,  4.02iter/s, loss: 1.132]\n"
     ]
    },
    {
     "name": "stdout",
     "output_type": "stream",
     "text": [
      "    test_acc:  6.00% |     test_loss: 2.270 | bleu_score: 0.440 | [pred: contented target: contented]\n",
      "new_test_acc: 10.00% | new_test_loss: 1.462 | bleu_score: 0.395 | [pred: appricate, target: appreciate]\n"
     ]
    },
    {
     "name": "stderr",
     "output_type": "stream",
     "text": [
      "epoch4: 100%|██████████| 808/808 [03:22<00:00,  3.99iter/s, loss: 1.032]\n"
     ]
    },
    {
     "name": "stdout",
     "output_type": "stream",
     "text": [
      "    test_acc: 12.00% |     test_loss: 2.412 | bleu_score: 0.485 | [pred: contented target: contented]\n",
      "new_test_acc: 10.00% | new_test_loss: 1.477 | bleu_score: 0.459 | [pred: apreciate, target: appreciate]\n"
     ]
    },
    {
     "name": "stderr",
     "output_type": "stream",
     "text": [
      "epoch5: 100%|██████████| 808/808 [03:21<00:00,  4.01iter/s, loss: 0.977]\n"
     ]
    },
    {
     "name": "stdout",
     "output_type": "stream",
     "text": [
      "    test_acc:  8.00% |     test_loss: 2.288 | bleu_score: 0.462 | [pred: contented target: contented]\n",
      "new_test_acc: 10.00% | new_test_loss: 1.307 | bleu_score: 0.445 | [pred: appricate, target: appreciate]\n"
     ]
    },
    {
     "name": "stderr",
     "output_type": "stream",
     "text": [
      "epoch6: 100%|██████████| 808/808 [03:19<00:00,  4.04iter/s, loss: 0.929]\n"
     ]
    },
    {
     "name": "stdout",
     "output_type": "stream",
     "text": [
      "    test_acc: 14.00% |     test_loss: 2.094 | bleu_score: 0.506 | [pred: contented target: contented]\n",
      "new_test_acc: 10.00% | new_test_loss: 1.307 | bleu_score: 0.475 | [pred: appreciate, target: appreciate]\n"
     ]
    },
    {
     "name": "stderr",
     "output_type": "stream",
     "text": [
      "epoch7: 100%|██████████| 808/808 [03:19<00:00,  4.05iter/s, loss: 0.894]\n"
     ]
    },
    {
     "name": "stdout",
     "output_type": "stream",
     "text": [
      "    test_acc: 20.00% |     test_loss: 2.163 | bleu_score: 0.551 | [pred: content target: contented]\n",
      "new_test_acc: 14.00% | new_test_loss: 1.383 | bleu_score: 0.481 | [pred: appriciate, target: appreciate]\n"
     ]
    },
    {
     "name": "stderr",
     "output_type": "stream",
     "text": [
      "epoch8: 100%|██████████| 808/808 [03:19<00:00,  4.06iter/s, loss: 0.868]\n"
     ]
    },
    {
     "name": "stdout",
     "output_type": "stream",
     "text": [
      "    test_acc: 16.00% |     test_loss: 2.432 | bleu_score: 0.546 | [pred: contented target: contented]\n",
      "new_test_acc: 12.00% | new_test_loss: 1.570 | bleu_score: 0.480 | [pred: apriciate, target: appreciate]\n"
     ]
    },
    {
     "name": "stderr",
     "output_type": "stream",
     "text": [
      "epoch9: 100%|██████████| 808/808 [03:21<00:00,  4.00iter/s, loss: 0.839]\n"
     ]
    },
    {
     "name": "stdout",
     "output_type": "stream",
     "text": [
      "    test_acc: 16.00% |     test_loss: 2.189 | bleu_score: 0.508 | [pred: contented target: contented]\n",
      "new_test_acc:  8.00% | new_test_loss: 1.309 | bleu_score: 0.440 | [pred: appriciate, target: appreciate]\n"
     ]
    },
    {
     "name": "stderr",
     "output_type": "stream",
     "text": [
      "epoch10: 100%|██████████| 808/808 [03:22<00:00,  4.00iter/s, loss: 0.814]\n"
     ]
    },
    {
     "name": "stdout",
     "output_type": "stream",
     "text": [
      "    test_acc: 16.00% |     test_loss: 2.423 | bleu_score: 0.541 | [pred: contented target: contented]\n",
      "new_test_acc: 14.00% | new_test_loss: 1.411 | bleu_score: 0.492 | [pred: apreciate, target: appreciate]\n"
     ]
    },
    {
     "name": "stderr",
     "output_type": "stream",
     "text": [
      "epoch11: 100%|██████████| 808/808 [03:21<00:00,  4.01iter/s, loss: 0.790]\n"
     ]
    },
    {
     "name": "stdout",
     "output_type": "stream",
     "text": [
      "    test_acc: 16.00% |     test_loss: 2.527 | bleu_score: 0.508 | [pred: contenpted target: contented]\n",
      "new_test_acc: 14.00% | new_test_loss: 1.218 | bleu_score: 0.495 | [pred: appriciate, target: appreciate]\n"
     ]
    },
    {
     "name": "stderr",
     "output_type": "stream",
     "text": [
      "epoch12: 100%|██████████| 808/808 [03:20<00:00,  4.02iter/s, loss: 0.773]\n"
     ]
    },
    {
     "name": "stdout",
     "output_type": "stream",
     "text": [
      "    test_acc: 22.00% |     test_loss: 1.962 | bleu_score: 0.568 | [pred: contenpted target: contented]\n",
      "new_test_acc: 18.00% | new_test_loss: 1.143 | bleu_score: 0.532 | [pred: appreciate, target: appreciate]\n"
     ]
    },
    {
     "name": "stderr",
     "output_type": "stream",
     "text": [
      "epoch13: 100%|██████████| 808/808 [03:21<00:00,  4.02iter/s, loss: 0.753]\n"
     ]
    },
    {
     "name": "stdout",
     "output_type": "stream",
     "text": [
      "    test_acc: 26.00% |     test_loss: 2.365 | bleu_score: 0.596 | [pred: contenpted target: contented]\n",
      "new_test_acc: 16.00% | new_test_loss: 1.321 | bleu_score: 0.497 | [pred: appreciate, target: appreciate]\n"
     ]
    },
    {
     "name": "stderr",
     "output_type": "stream",
     "text": [
      "epoch14: 100%|██████████| 808/808 [03:19<00:00,  4.05iter/s, loss: 0.737]\n"
     ]
    },
    {
     "name": "stdout",
     "output_type": "stream",
     "text": [
      "    test_acc: 24.00% |     test_loss: 1.889 | bleu_score: 0.577 | [pred: contenpted target: contented]\n",
      "new_test_acc: 14.00% | new_test_loss: 1.171 | bleu_score: 0.522 | [pred: appriciate, target: appreciate]\n"
     ]
    },
    {
     "name": "stderr",
     "output_type": "stream",
     "text": [
      "epoch15: 100%|██████████| 808/808 [03:22<00:00,  3.99iter/s, loss: 0.718]\n"
     ]
    },
    {
     "name": "stdout",
     "output_type": "stream",
     "text": [
      "    test_acc: 34.00% |     test_loss: 2.172 | bleu_score: 0.603 | [pred: contented target: contented]\n",
      "new_test_acc: 18.00% | new_test_loss: 1.283 | bleu_score: 0.503 | [pred: appricate, target: appreciate]\n"
     ]
    },
    {
     "name": "stderr",
     "output_type": "stream",
     "text": [
      "epoch16: 100%|██████████| 808/808 [03:24<00:00,  3.95iter/s, loss: 0.703]\n"
     ]
    },
    {
     "name": "stdout",
     "output_type": "stream",
     "text": [
      "    test_acc: 26.00% |     test_loss: 2.233 | bleu_score: 0.596 | [pred: contenpted target: contented]\n",
      "new_test_acc: 16.00% | new_test_loss: 1.364 | bleu_score: 0.521 | [pred: appricate, target: appreciate]\n"
     ]
    },
    {
     "name": "stderr",
     "output_type": "stream",
     "text": [
      "epoch17: 100%|██████████| 808/808 [03:26<00:00,  3.92iter/s, loss: 0.691]\n"
     ]
    },
    {
     "name": "stdout",
     "output_type": "stream",
     "text": [
      "    test_acc: 28.00% |     test_loss: 1.854 | bleu_score: 0.596 | [pred: contenpted target: contented]\n",
      "new_test_acc: 16.00% | new_test_loss: 1.426 | bleu_score: 0.543 | [pred: appreciate, target: appreciate]\n"
     ]
    },
    {
     "name": "stderr",
     "output_type": "stream",
     "text": [
      "epoch18: 100%|██████████| 808/808 [03:25<00:00,  3.93iter/s, loss: 0.677]\n"
     ]
    },
    {
     "name": "stdout",
     "output_type": "stream",
     "text": [
      "    test_acc: 38.00% |     test_loss: 1.851 | bleu_score: 0.646 | [pred: contented target: contented]\n",
      "new_test_acc: 18.00% | new_test_loss: 1.354 | bleu_score: 0.512 | [pred: appreciate, target: appreciate]\n"
     ]
    },
    {
     "name": "stderr",
     "output_type": "stream",
     "text": [
      "epoch19: 100%|██████████| 808/808 [03:28<00:00,  3.88iter/s, loss: 0.661]\n"
     ]
    },
    {
     "name": "stdout",
     "output_type": "stream",
     "text": [
      "    test_acc: 32.00% |     test_loss: 1.269 | bleu_score: 0.655 | [pred: contenpted target: contented]\n",
      "new_test_acc: 20.00% | new_test_loss: 1.183 | bleu_score: 0.579 | [pred: appriciate, target: appreciate]\n"
     ]
    },
    {
     "name": "stderr",
     "output_type": "stream",
     "text": [
      "epoch20: 100%|██████████| 808/808 [03:25<00:00,  3.92iter/s, loss: 0.642]\n"
     ]
    },
    {
     "name": "stdout",
     "output_type": "stream",
     "text": [
      "    test_acc: 30.00% |     test_loss: 1.834 | bleu_score: 0.611 | [pred: contented target: contented]\n",
      "new_test_acc: 22.00% | new_test_loss: 1.074 | bleu_score: 0.576 | [pred: appreciate, target: appreciate]\n"
     ]
    },
    {
     "name": "stderr",
     "output_type": "stream",
     "text": [
      "epoch21: 100%|██████████| 808/808 [03:25<00:00,  3.94iter/s, loss: 0.632]\n"
     ]
    },
    {
     "name": "stdout",
     "output_type": "stream",
     "text": [
      "    test_acc: 36.00% |     test_loss: 1.667 | bleu_score: 0.657 | [pred: contenpted target: contented]\n",
      "new_test_acc: 18.00% | new_test_loss: 1.273 | bleu_score: 0.532 | [pred: appreciate, target: appreciate]\n"
     ]
    },
    {
     "name": "stderr",
     "output_type": "stream",
     "text": [
      "epoch22: 100%|██████████| 808/808 [03:25<00:00,  3.93iter/s, loss: 0.617]\n"
     ]
    },
    {
     "name": "stdout",
     "output_type": "stream",
     "text": [
      "    test_acc: 42.00% |     test_loss: 1.614 | bleu_score: 0.684 | [pred: contenpted target: contented]\n",
      "new_test_acc: 22.00% | new_test_loss: 0.996 | bleu_score: 0.581 | [pred: appreciate, target: appreciate]\n"
     ]
    },
    {
     "name": "stderr",
     "output_type": "stream",
     "text": [
      "epoch23: 100%|██████████| 808/808 [03:24<00:00,  3.95iter/s, loss: 0.603]\n"
     ]
    },
    {
     "name": "stdout",
     "output_type": "stream",
     "text": [
      "    test_acc: 40.00% |     test_loss: 1.691 | bleu_score: 0.659 | [pred: contenpted target: contented]\n",
      "new_test_acc: 18.00% | new_test_loss: 1.323 | bleu_score: 0.532 | [pred: appreciate, target: appreciate]\n"
     ]
    },
    {
     "name": "stderr",
     "output_type": "stream",
     "text": [
      "epoch24: 100%|██████████| 808/808 [03:23<00:00,  3.96iter/s, loss: 0.592]\n"
     ]
    },
    {
     "name": "stdout",
     "output_type": "stream",
     "text": [
      "    test_acc: 44.00% |     test_loss: 1.771 | bleu_score: 0.689 | [pred: contenpted target: contented]\n",
      "new_test_acc: 20.00% | new_test_loss: 1.422 | bleu_score: 0.555 | [pred: appreciate, target: appreciate]\n"
     ]
    },
    {
     "name": "stderr",
     "output_type": "stream",
     "text": [
      "epoch25: 100%|██████████| 808/808 [03:26<00:00,  3.92iter/s, loss: 0.583]\n"
     ]
    },
    {
     "name": "stdout",
     "output_type": "stream",
     "text": [
      "    test_acc: 44.00% |     test_loss: 1.848 | bleu_score: 0.685 | [pred: contenpted target: contented]\n",
      "new_test_acc: 22.00% | new_test_loss: 1.384 | bleu_score: 0.587 | [pred: appreciate, target: appreciate]\n"
     ]
    },
    {
     "name": "stderr",
     "output_type": "stream",
     "text": [
      "epoch26: 100%|██████████| 808/808 [03:24<00:00,  3.95iter/s, loss: 0.570]\n"
     ]
    },
    {
     "name": "stdout",
     "output_type": "stream",
     "text": [
      "    test_acc: 42.00% |     test_loss: 1.486 | bleu_score: 0.688 | [pred: contenpted target: contented]\n",
      "new_test_acc: 20.00% | new_test_loss: 1.269 | bleu_score: 0.538 | [pred: appriciate, target: appreciate]\n"
     ]
    },
    {
     "name": "stderr",
     "output_type": "stream",
     "text": [
      "epoch27: 100%|██████████| 808/808 [03:24<00:00,  3.94iter/s, loss: 0.554]\n"
     ]
    },
    {
     "name": "stdout",
     "output_type": "stream",
     "text": [
      "    test_acc: 54.00% |     test_loss: 1.240 | bleu_score: 0.736 | [pred: contenpted target: contented]\n",
      "new_test_acc: 20.00% | new_test_loss: 1.584 | bleu_score: 0.527 | [pred: appriciate, target: appreciate]\n"
     ]
    },
    {
     "name": "stderr",
     "output_type": "stream",
     "text": [
      "epoch28: 100%|██████████| 808/808 [03:26<00:00,  3.91iter/s, loss: 0.545]\n"
     ]
    },
    {
     "name": "stdout",
     "output_type": "stream",
     "text": [
      "    test_acc: 54.00% |     test_loss: 1.729 | bleu_score: 0.741 | [pred: contenpted target: contented]\n",
      "new_test_acc: 24.00% | new_test_loss: 1.581 | bleu_score: 0.572 | [pred: appreciate, target: appreciate]\n"
     ]
    },
    {
     "name": "stderr",
     "output_type": "stream",
     "text": [
      "epoch29: 100%|██████████| 808/808 [03:25<00:00,  3.93iter/s, loss: 0.533]\n"
     ]
    },
    {
     "name": "stdout",
     "output_type": "stream",
     "text": [
      "    test_acc: 50.00% |     test_loss: 2.057 | bleu_score: 0.730 | [pred: contenpted target: contented]\n",
      "new_test_acc: 22.00% | new_test_loss: 1.531 | bleu_score: 0.547 | [pred: appreciate, target: appreciate]\n"
     ]
    },
    {
     "name": "stderr",
     "output_type": "stream",
     "text": [
      "epoch30: 100%|██████████| 808/808 [03:26<00:00,  3.90iter/s, loss: 0.519]\n"
     ]
    },
    {
     "name": "stdout",
     "output_type": "stream",
     "text": [
      "    test_acc: 56.00% |     test_loss: 1.744 | bleu_score: 0.762 | [pred: contented target: contented]\n",
      "new_test_acc: 26.00% | new_test_loss: 1.388 | bleu_score: 0.572 | [pred: appreciate, target: appreciate]\n"
     ]
    },
    {
     "name": "stderr",
     "output_type": "stream",
     "text": [
      "epoch31: 100%|██████████| 808/808 [03:25<00:00,  3.92iter/s, loss: 0.509]\n"
     ]
    },
    {
     "name": "stdout",
     "output_type": "stream",
     "text": [
      "    test_acc: 54.00% |     test_loss: 1.361 | bleu_score: 0.739 | [pred: contenpted target: contented]\n",
      "new_test_acc: 24.00% | new_test_loss: 1.241 | bleu_score: 0.560 | [pred: appreciate, target: appreciate]\n"
     ]
    },
    {
     "name": "stderr",
     "output_type": "stream",
     "text": [
      "epoch32: 100%|██████████| 808/808 [03:25<00:00,  3.93iter/s, loss: 0.497]\n"
     ]
    },
    {
     "name": "stdout",
     "output_type": "stream",
     "text": [
      "    test_acc: 52.00% |     test_loss: 1.161 | bleu_score: 0.724 | [pred: contenpted target: contented]\n",
      "new_test_acc: 26.00% | new_test_loss: 1.386 | bleu_score: 0.598 | [pred: appreciate, target: appreciate]\n"
     ]
    },
    {
     "name": "stderr",
     "output_type": "stream",
     "text": [
      "epoch33: 100%|██████████| 808/808 [03:25<00:00,  3.94iter/s, loss: 0.487]\n"
     ]
    },
    {
     "name": "stdout",
     "output_type": "stream",
     "text": [
      "    test_acc: 60.00% |     test_loss: 1.163 | bleu_score: 0.772 | [pred: contenpted target: contented]\n",
      "new_test_acc: 26.00% | new_test_loss: 1.372 | bleu_score: 0.587 | [pred: appreciate, target: appreciate]\n"
     ]
    },
    {
     "name": "stderr",
     "output_type": "stream",
     "text": [
      "epoch34: 100%|██████████| 808/808 [03:24<00:00,  3.95iter/s, loss: 0.476]\n"
     ]
    },
    {
     "name": "stdout",
     "output_type": "stream",
     "text": [
      "    test_acc: 62.00% |     test_loss: 1.630 | bleu_score: 0.785 | [pred: contented target: contented]\n",
      "new_test_acc: 24.00% | new_test_loss: 1.340 | bleu_score: 0.576 | [pred: appreciate, target: appreciate]\n"
     ]
    },
    {
     "name": "stderr",
     "output_type": "stream",
     "text": [
      "epoch35: 100%|██████████| 808/808 [03:26<00:00,  3.91iter/s, loss: 0.466]\n"
     ]
    },
    {
     "name": "stdout",
     "output_type": "stream",
     "text": [
      "    test_acc: 60.00% |     test_loss: 1.145 | bleu_score: 0.755 | [pred: contented target: contented]\n",
      "new_test_acc: 22.00% | new_test_loss: 1.485 | bleu_score: 0.544 | [pred: appreciate, target: appreciate]\n"
     ]
    },
    {
     "name": "stderr",
     "output_type": "stream",
     "text": [
      "epoch36: 100%|██████████| 808/808 [03:25<00:00,  3.94iter/s, loss: 0.456]\n"
     ]
    },
    {
     "name": "stdout",
     "output_type": "stream",
     "text": [
      "    test_acc: 72.00% |     test_loss: 0.857 | bleu_score: 0.824 | [pred: contented target: contented]\n",
      "new_test_acc: 24.00% | new_test_loss: 1.162 | bleu_score: 0.536 | [pred: appreciate, target: appreciate]\n"
     ]
    },
    {
     "name": "stderr",
     "output_type": "stream",
     "text": [
      "epoch37: 100%|██████████| 808/808 [03:26<00:00,  3.92iter/s, loss: 0.446]\n"
     ]
    },
    {
     "name": "stdout",
     "output_type": "stream",
     "text": [
      "    test_acc: 58.00% |     test_loss: 1.357 | bleu_score: 0.742 | [pred: contented target: contented]\n",
      "new_test_acc: 26.00% | new_test_loss: 1.558 | bleu_score: 0.568 | [pred: appriciate, target: appreciate]\n"
     ]
    },
    {
     "name": "stderr",
     "output_type": "stream",
     "text": [
      "epoch38: 100%|██████████| 808/808 [03:23<00:00,  3.96iter/s, loss: 0.433]\n"
     ]
    },
    {
     "name": "stdout",
     "output_type": "stream",
     "text": [
      "    test_acc: 64.00% |     test_loss: 1.096 | bleu_score: 0.796 | [pred: contenpted target: contented]\n",
      "new_test_acc: 22.00% | new_test_loss: 1.451 | bleu_score: 0.557 | [pred: appreciate, target: appreciate]\n"
     ]
    },
    {
     "name": "stderr",
     "output_type": "stream",
     "text": [
      "epoch39: 100%|██████████| 808/808 [03:25<00:00,  3.93iter/s, loss: 0.424]\n"
     ]
    },
    {
     "name": "stdout",
     "output_type": "stream",
     "text": [
      "    test_acc: 74.00% |     test_loss: 0.814 | bleu_score: 0.848 | [pred: contented target: contented]\n",
      "new_test_acc: 28.00% | new_test_loss: 1.325 | bleu_score: 0.589 | [pred: appreciate, target: appreciate]\n"
     ]
    },
    {
     "name": "stderr",
     "output_type": "stream",
     "text": [
      "epoch40: 100%|██████████| 808/808 [03:26<00:00,  3.92iter/s, loss: 0.415]\n"
     ]
    },
    {
     "name": "stdout",
     "output_type": "stream",
     "text": [
      "    test_acc: 74.00% |     test_loss: 0.841 | bleu_score: 0.843 | [pred: contented target: contented]\n",
      "new_test_acc: 24.00% | new_test_loss: 1.168 | bleu_score: 0.581 | [pred: appreciate, target: appreciate]\n"
     ]
    },
    {
     "name": "stderr",
     "output_type": "stream",
     "text": [
      "epoch41: 100%|██████████| 808/808 [03:26<00:00,  3.91iter/s, loss: 0.403]\n"
     ]
    },
    {
     "name": "stdout",
     "output_type": "stream",
     "text": [
      "    test_acc: 68.00% |     test_loss: 0.938 | bleu_score: 0.808 | [pred: contented target: contented]\n",
      "new_test_acc: 32.00% | new_test_loss: 1.358 | bleu_score: 0.620 | [pred: appreciate, target: appreciate]\n"
     ]
    },
    {
     "name": "stderr",
     "output_type": "stream",
     "text": [
      "epoch42: 100%|██████████| 808/808 [03:24<00:00,  3.95iter/s, loss: 0.394]\n"
     ]
    },
    {
     "name": "stdout",
     "output_type": "stream",
     "text": [
      "    test_acc: 78.00% |     test_loss: 0.459 | bleu_score: 0.854 | [pred: contented target: contented]\n",
      "new_test_acc: 34.00% | new_test_loss: 1.391 | bleu_score: 0.643 | [pred: appreciate, target: appreciate]\n"
     ]
    },
    {
     "name": "stderr",
     "output_type": "stream",
     "text": [
      "epoch43: 100%|██████████| 808/808 [03:24<00:00,  3.95iter/s, loss: 0.387]\n"
     ]
    },
    {
     "name": "stdout",
     "output_type": "stream",
     "text": [
      "    test_acc: 72.00% |     test_loss: 0.858 | bleu_score: 0.809 | [pred: contented target: contented]\n",
      "new_test_acc: 30.00% | new_test_loss: 1.348 | bleu_score: 0.598 | [pred: appreciate, target: appreciate]\n"
     ]
    },
    {
     "name": "stderr",
     "output_type": "stream",
     "text": [
      "epoch44: 100%|██████████| 808/808 [03:25<00:00,  3.93iter/s, loss: 0.378]\n"
     ]
    },
    {
     "name": "stdout",
     "output_type": "stream",
     "text": [
      "    test_acc: 66.00% |     test_loss: 0.697 | bleu_score: 0.762 | [pred: contented target: contented]\n",
      "new_test_acc: 28.00% | new_test_loss: 1.510 | bleu_score: 0.584 | [pred: appreciate, target: appreciate]\n"
     ]
    },
    {
     "name": "stderr",
     "output_type": "stream",
     "text": [
      "epoch45: 100%|██████████| 808/808 [03:27<00:00,  3.90iter/s, loss: 0.366]\n"
     ]
    },
    {
     "name": "stdout",
     "output_type": "stream",
     "text": [
      "    test_acc: 76.00% |     test_loss: 0.725 | bleu_score: 0.838 | [pred: contented target: contented]\n",
      "new_test_acc: 30.00% | new_test_loss: 1.319 | bleu_score: 0.603 | [pred: appreciate, target: appreciate]\n"
     ]
    },
    {
     "name": "stderr",
     "output_type": "stream",
     "text": [
      "epoch46: 100%|██████████| 808/808 [03:24<00:00,  3.95iter/s, loss: 0.358]\n"
     ]
    },
    {
     "name": "stdout",
     "output_type": "stream",
     "text": [
      "    test_acc: 72.00% |     test_loss: 1.306 | bleu_score: 0.804 | [pred: contented target: contented]\n",
      "new_test_acc: 26.00% | new_test_loss: 1.680 | bleu_score: 0.580 | [pred: appriciate, target: appreciate]\n"
     ]
    },
    {
     "name": "stderr",
     "output_type": "stream",
     "text": [
      "epoch47: 100%|██████████| 808/808 [03:25<00:00,  3.93iter/s, loss: 0.348]\n"
     ]
    },
    {
     "name": "stdout",
     "output_type": "stream",
     "text": [
      "    test_acc: 80.00% |     test_loss: 0.375 | bleu_score: 0.863 | [pred: contented target: contented]\n",
      "new_test_acc: 26.00% | new_test_loss: 1.504 | bleu_score: 0.584 | [pred: appreciate, target: appreciate]\n"
     ]
    },
    {
     "name": "stderr",
     "output_type": "stream",
     "text": [
      "epoch48: 100%|██████████| 808/808 [03:24<00:00,  3.95iter/s, loss: 0.339]\n"
     ]
    },
    {
     "name": "stdout",
     "output_type": "stream",
     "text": [
      "    test_acc: 86.00% |     test_loss: 0.430 | bleu_score: 0.919 | [pred: contented target: contented]\n",
      "new_test_acc: 28.00% | new_test_loss: 1.521 | bleu_score: 0.594 | [pred: approciate, target: appreciate]\n"
     ]
    },
    {
     "name": "stderr",
     "output_type": "stream",
     "text": [
      "epoch49: 100%|██████████| 808/808 [03:25<00:00,  3.93iter/s, loss: 0.331]\n"
     ]
    },
    {
     "name": "stdout",
     "output_type": "stream",
     "text": [
      "    test_acc: 88.00% |     test_loss: 0.406 | bleu_score: 0.924 | [pred: contented target: contented]\n",
      "new_test_acc: 34.00% | new_test_loss: 1.462 | bleu_score: 0.625 | [pred: appreciate, target: appreciate]\n"
     ]
    },
    {
     "name": "stderr",
     "output_type": "stream",
     "text": [
      "epoch50: 100%|██████████| 808/808 [03:25<00:00,  3.93iter/s, loss: 0.324]\n"
     ]
    },
    {
     "name": "stdout",
     "output_type": "stream",
     "text": [
      "    test_acc: 82.00% |     test_loss: 0.407 | bleu_score: 0.869 | [pred: contented target: contented]\n",
      "new_test_acc: 30.00% | new_test_loss: 1.493 | bleu_score: 0.593 | [pred: appreciate, target: appreciate]\n"
     ]
    },
    {
     "name": "stderr",
     "output_type": "stream",
     "text": [
      "epoch51: 100%|██████████| 808/808 [03:26<00:00,  3.91iter/s, loss: 0.288]\n"
     ]
    },
    {
     "name": "stdout",
     "output_type": "stream",
     "text": [
      "    test_acc: 88.00% |     test_loss: 0.324 | bleu_score: 0.902 | [pred: continupted target: contented]\n",
      "new_test_acc: 36.00% | new_test_loss: 1.340 | bleu_score: 0.635 | [pred: appreciate, target: appreciate]\n"
     ]
    },
    {
     "name": "stderr",
     "output_type": "stream",
     "text": [
      "epoch52: 100%|██████████| 808/808 [03:24<00:00,  3.94iter/s, loss: 0.278]\n"
     ]
    },
    {
     "name": "stdout",
     "output_type": "stream",
     "text": [
      "    test_acc: 90.00% |     test_loss: 0.416 | bleu_score: 0.924 | [pred: contented target: contented]\n",
      "new_test_acc: 36.00% | new_test_loss: 1.238 | bleu_score: 0.637 | [pred: appreciate, target: appreciate]\n"
     ]
    },
    {
     "name": "stderr",
     "output_type": "stream",
     "text": [
      "epoch53: 100%|██████████| 808/808 [03:23<00:00,  3.96iter/s, loss: 0.271]\n"
     ]
    },
    {
     "name": "stdout",
     "output_type": "stream",
     "text": [
      "    test_acc: 94.00% |     test_loss: 0.377 | bleu_score: 0.956 | [pred: contented target: contented]\n",
      "new_test_acc: 36.00% | new_test_loss: 1.327 | bleu_score: 0.631 | [pred: appreciate, target: appreciate]\n"
     ]
    },
    {
     "name": "stderr",
     "output_type": "stream",
     "text": [
      "epoch54: 100%|██████████| 808/808 [03:24<00:00,  3.96iter/s, loss: 0.264]\n"
     ]
    },
    {
     "name": "stdout",
     "output_type": "stream",
     "text": [
      "    test_acc: 90.00% |     test_loss: 0.409 | bleu_score: 0.923 | [pred: contented target: contented]\n",
      "new_test_acc: 32.00% | new_test_loss: 1.652 | bleu_score: 0.605 | [pred: appreciate, target: appreciate]\n"
     ]
    },
    {
     "name": "stderr",
     "output_type": "stream",
     "text": [
      "epoch55: 100%|██████████| 808/808 [03:26<00:00,  3.91iter/s, loss: 0.262]\n"
     ]
    },
    {
     "name": "stdout",
     "output_type": "stream",
     "text": [
      "    test_acc: 94.00% |     test_loss: 0.341 | bleu_score: 0.956 | [pred: contented target: contented]\n",
      "new_test_acc: 38.00% | new_test_loss: 1.321 | bleu_score: 0.638 | [pred: appreciate, target: appreciate]\n"
     ]
    },
    {
     "name": "stderr",
     "output_type": "stream",
     "text": [
      "epoch56: 100%|██████████| 808/808 [03:25<00:00,  3.93iter/s, loss: 0.257]\n"
     ]
    },
    {
     "name": "stdout",
     "output_type": "stream",
     "text": [
      "    test_acc: 90.00% |     test_loss: 0.362 | bleu_score: 0.943 | [pred: continted target: contented]\n",
      "new_test_acc: 40.00% | new_test_loss: 1.508 | bleu_score: 0.663 | [pred: appreciate, target: appreciate]\n"
     ]
    },
    {
     "name": "stderr",
     "output_type": "stream",
     "text": [
      "epoch57: 100%|██████████| 808/808 [03:24<00:00,  3.95iter/s, loss: 0.253]\n"
     ]
    },
    {
     "name": "stdout",
     "output_type": "stream",
     "text": [
      "    test_acc: 90.00% |     test_loss: 0.460 | bleu_score: 0.944 | [pred: contenpted target: contented]\n",
      "new_test_acc: 44.00% | new_test_loss: 1.012 | bleu_score: 0.674 | [pred: appreciate, target: appreciate]\n"
     ]
    },
    {
     "name": "stderr",
     "output_type": "stream",
     "text": [
      "epoch58: 100%|██████████| 808/808 [03:25<00:00,  3.93iter/s, loss: 0.250]\n"
     ]
    },
    {
     "name": "stdout",
     "output_type": "stream",
     "text": [
      "    test_acc: 92.00% |     test_loss: 0.191 | bleu_score: 0.943 | [pred: contenpted target: contented]\n",
      "new_test_acc: 40.00% | new_test_loss: 1.405 | bleu_score: 0.677 | [pred: appreciate, target: appreciate]\n"
     ]
    },
    {
     "name": "stderr",
     "output_type": "stream",
     "text": [
      "epoch59: 100%|██████████| 808/808 [03:24<00:00,  3.96iter/s, loss: 0.246]\n"
     ]
    },
    {
     "name": "stdout",
     "output_type": "stream",
     "text": [
      "    test_acc: 96.00% |     test_loss: 0.099 | bleu_score: 0.964 | [pred: contented target: contented]\n",
      "new_test_acc: 36.00% | new_test_loss: 1.297 | bleu_score: 0.641 | [pred: appreciate, target: appreciate]\n"
     ]
    },
    {
     "name": "stderr",
     "output_type": "stream",
     "text": [
      "epoch60: 100%|██████████| 808/808 [03:25<00:00,  3.93iter/s, loss: 0.243]\n"
     ]
    },
    {
     "name": "stdout",
     "output_type": "stream",
     "text": [
      "    test_acc: 92.00% |     test_loss: 0.407 | bleu_score: 0.943 | [pred: contented target: contented]\n",
      "new_test_acc: 44.00% | new_test_loss: 1.180 | bleu_score: 0.681 | [pred: appreciate, target: appreciate]\n"
     ]
    },
    {
     "name": "stderr",
     "output_type": "stream",
     "text": [
      "epoch61: 100%|██████████| 808/808 [03:24<00:00,  3.95iter/s, loss: 0.239]\n"
     ]
    },
    {
     "name": "stdout",
     "output_type": "stream",
     "text": [
      "    test_acc: 90.00% |     test_loss: 0.401 | bleu_score: 0.924 | [pred: contented target: contented]\n",
      "new_test_acc: 44.00% | new_test_loss: 1.334 | bleu_score: 0.654 | [pred: appreciate, target: appreciate]\n"
     ]
    },
    {
     "name": "stderr",
     "output_type": "stream",
     "text": [
      "epoch62: 100%|██████████| 808/808 [03:23<00:00,  3.97iter/s, loss: 0.238]\n"
     ]
    },
    {
     "name": "stdout",
     "output_type": "stream",
     "text": [
      "    test_acc: 94.00% |     test_loss: 0.373 | bleu_score: 0.961 | [pred: continupted target: contented]\n",
      "new_test_acc: 42.00% | new_test_loss: 1.714 | bleu_score: 0.634 | [pred: appreciate, target: appreciate]\n"
     ]
    },
    {
     "name": "stderr",
     "output_type": "stream",
     "text": [
      "epoch63: 100%|██████████| 808/808 [03:24<00:00,  3.95iter/s, loss: 0.233]\n"
     ]
    },
    {
     "name": "stdout",
     "output_type": "stream",
     "text": [
      "    test_acc: 90.00% |     test_loss: 0.390 | bleu_score: 0.932 | [pred: continted target: contented]\n",
      "new_test_acc: 40.00% | new_test_loss: 1.402 | bleu_score: 0.641 | [pred: appreciate, target: appreciate]\n"
     ]
    },
    {
     "name": "stderr",
     "output_type": "stream",
     "text": [
      "epoch64: 100%|██████████| 808/808 [03:24<00:00,  3.94iter/s, loss: 0.227]\n"
     ]
    },
    {
     "name": "stdout",
     "output_type": "stream",
     "text": [
      "    test_acc: 90.00% |     test_loss: 0.382 | bleu_score: 0.926 | [pred: contented target: contented]\n",
      "new_test_acc: 42.00% | new_test_loss: 1.186 | bleu_score: 0.671 | [pred: appreciate, target: appreciate]\n"
     ]
    },
    {
     "name": "stderr",
     "output_type": "stream",
     "text": [
      "epoch65: 100%|██████████| 808/808 [03:26<00:00,  3.91iter/s, loss: 0.224]\n"
     ]
    },
    {
     "name": "stdout",
     "output_type": "stream",
     "text": [
      "    test_acc: 94.00% |     test_loss: 0.345 | bleu_score: 0.958 | [pred: contented target: contented]\n",
      "new_test_acc: 38.00% | new_test_loss: 1.273 | bleu_score: 0.626 | [pred: appreciate, target: appreciate]\n"
     ]
    },
    {
     "name": "stderr",
     "output_type": "stream",
     "text": [
      "epoch66: 100%|██████████| 808/808 [03:25<00:00,  3.93iter/s, loss: 0.222]\n"
     ]
    },
    {
     "name": "stdout",
     "output_type": "stream",
     "text": [
      "    test_acc: 94.00% |     test_loss: 0.392 | bleu_score: 0.968 | [pred: contented target: contented]\n",
      "new_test_acc: 44.00% | new_test_loss: 1.029 | bleu_score: 0.690 | [pred: appreciate, target: appreciate]\n"
     ]
    },
    {
     "name": "stderr",
     "output_type": "stream",
     "text": [
      "epoch67: 100%|██████████| 808/808 [03:24<00:00,  3.95iter/s, loss: 0.221]\n"
     ]
    },
    {
     "name": "stdout",
     "output_type": "stream",
     "text": [
      "    test_acc: 94.00% |     test_loss: 0.347 | bleu_score: 0.958 | [pred: contented target: contented]\n",
      "new_test_acc: 42.00% | new_test_loss: 1.383 | bleu_score: 0.641 | [pred: appreciate, target: appreciate]\n"
     ]
    },
    {
     "name": "stderr",
     "output_type": "stream",
     "text": [
      "epoch68: 100%|██████████| 808/808 [03:26<00:00,  3.91iter/s, loss: 0.216]\n"
     ]
    },
    {
     "name": "stdout",
     "output_type": "stream",
     "text": [
      "    test_acc: 96.00% |     test_loss: 0.338 | bleu_score: 0.974 | [pred: contented target: contented]\n",
      "new_test_acc: 36.00% | new_test_loss: 1.723 | bleu_score: 0.606 | [pred: appreciate, target: appreciate]\n"
     ]
    },
    {
     "name": "stderr",
     "output_type": "stream",
     "text": [
      "epoch69: 100%|██████████| 808/808 [03:24<00:00,  3.94iter/s, loss: 0.216]\n"
     ]
    },
    {
     "name": "stdout",
     "output_type": "stream",
     "text": [
      "    test_acc: 94.00% |     test_loss: 0.357 | bleu_score: 0.958 | [pred: contented target: contented]\n",
      "new_test_acc: 50.00% | new_test_loss: 1.201 | bleu_score: 0.705 | [pred: appreciate, target: appreciate]\n"
     ]
    },
    {
     "name": "stderr",
     "output_type": "stream",
     "text": [
      "epoch70: 100%|██████████| 808/808 [03:25<00:00,  3.94iter/s, loss: 0.211]\n"
     ]
    },
    {
     "name": "stdout",
     "output_type": "stream",
     "text": [
      "    test_acc: 94.00% |     test_loss: 0.345 | bleu_score: 0.956 | [pred: contented target: contented]\n",
      "new_test_acc: 46.00% | new_test_loss: 1.467 | bleu_score: 0.675 | [pred: appreciate, target: appreciate]\n"
     ]
    },
    {
     "name": "stderr",
     "output_type": "stream",
     "text": [
      "epoch71: 100%|██████████| 808/808 [03:24<00:00,  3.96iter/s, loss: 0.206]\n"
     ]
    },
    {
     "name": "stdout",
     "output_type": "stream",
     "text": [
      "    test_acc: 94.00% |     test_loss: 0.396 | bleu_score: 0.956 | [pred: contented target: contented]\n",
      "new_test_acc: 42.00% | new_test_loss: 1.370 | bleu_score: 0.637 | [pred: appreciate, target: appreciate]\n"
     ]
    },
    {
     "name": "stderr",
     "output_type": "stream",
     "text": [
      "epoch72: 100%|██████████| 808/808 [03:27<00:00,  3.90iter/s, loss: 0.202]\n"
     ]
    },
    {
     "name": "stdout",
     "output_type": "stream",
     "text": [
      "    test_acc: 94.00% |     test_loss: 0.345 | bleu_score: 0.956 | [pred: contented target: contented]\n",
      "new_test_acc: 42.00% | new_test_loss: 1.406 | bleu_score: 0.641 | [pred: appreciate, target: appreciate]\n"
     ]
    },
    {
     "name": "stderr",
     "output_type": "stream",
     "text": [
      "epoch73: 100%|██████████| 808/808 [03:27<00:00,  3.90iter/s, loss: 0.203]\n"
     ]
    },
    {
     "name": "stdout",
     "output_type": "stream",
     "text": [
      "    test_acc: 92.00% |     test_loss: 0.418 | bleu_score: 0.940 | [pred: contented target: contented]\n",
      "new_test_acc: 48.00% | new_test_loss: 1.174 | bleu_score: 0.688 | [pred: appreciate, target: appreciate]\n"
     ]
    },
    {
     "name": "stderr",
     "output_type": "stream",
     "text": [
      "epoch74: 100%|██████████| 808/808 [03:24<00:00,  3.95iter/s, loss: 0.198]\n"
     ]
    },
    {
     "name": "stdout",
     "output_type": "stream",
     "text": [
      "    test_acc: 94.00% |     test_loss: 0.393 | bleu_score: 0.956 | [pred: contented target: contented]\n",
      "new_test_acc: 44.00% | new_test_loss: 1.379 | bleu_score: 0.673 | [pred: appreciate, target: appreciate]\n"
     ]
    },
    {
     "name": "stderr",
     "output_type": "stream",
     "text": [
      "epoch75: 100%|██████████| 808/808 [03:26<00:00,  3.91iter/s, loss: 0.196]\n"
     ]
    },
    {
     "name": "stdout",
     "output_type": "stream",
     "text": [
      "    test_acc: 94.00% |     test_loss: 0.399 | bleu_score: 0.961 | [pred: continupted target: contented]\n",
      "new_test_acc: 46.00% | new_test_loss: 1.262 | bleu_score: 0.682 | [pred: appreciate, target: appreciate]\n"
     ]
    },
    {
     "name": "stderr",
     "output_type": "stream",
     "text": [
      "epoch76: 100%|██████████| 808/808 [03:26<00:00,  3.92iter/s, loss: 0.182]\n"
     ]
    },
    {
     "name": "stdout",
     "output_type": "stream",
     "text": [
      "    test_acc: 94.00% |     test_loss: 0.367 | bleu_score: 0.964 | [pred: continupted target: contented]\n",
      "new_test_acc: 44.00% | new_test_loss: 1.628 | bleu_score: 0.660 | [pred: appreciate, target: appreciate]\n"
     ]
    },
    {
     "name": "stderr",
     "output_type": "stream",
     "text": [
      "epoch77: 100%|██████████| 808/808 [03:23<00:00,  3.96iter/s, loss: 0.179]\n"
     ]
    },
    {
     "name": "stdout",
     "output_type": "stream",
     "text": [
      "    test_acc: 94.00% |     test_loss: 0.363 | bleu_score: 0.964 | [pred: continupted target: contented]\n",
      "new_test_acc: 50.00% | new_test_loss: 1.212 | bleu_score: 0.694 | [pred: appreciate, target: appreciate]\n"
     ]
    },
    {
     "name": "stderr",
     "output_type": "stream",
     "text": [
      "epoch78: 100%|██████████| 808/808 [03:24<00:00,  3.94iter/s, loss: 0.176]\n"
     ]
    },
    {
     "name": "stdout",
     "output_type": "stream",
     "text": [
      "    test_acc: 96.00% |     test_loss: 0.333 | bleu_score: 0.974 | [pred: contented target: contented]\n",
      "new_test_acc: 46.00% | new_test_loss: 1.364 | bleu_score: 0.688 | [pred: appreciate, target: appreciate]\n"
     ]
    },
    {
     "name": "stderr",
     "output_type": "stream",
     "text": [
      "epoch79: 100%|██████████| 808/808 [03:25<00:00,  3.94iter/s, loss: 0.172]\n"
     ]
    },
    {
     "name": "stdout",
     "output_type": "stream",
     "text": [
      "    test_acc: 98.00% |     test_loss: 0.048 | bleu_score: 0.982 | [pred: contented target: contented]\n",
      "new_test_acc: 48.00% | new_test_loss: 1.180 | bleu_score: 0.691 | [pred: appreciate, target: appreciate]\n"
     ]
    },
    {
     "name": "stderr",
     "output_type": "stream",
     "text": [
      "epoch80: 100%|██████████| 808/808 [03:24<00:00,  3.94iter/s, loss: 0.174]\n"
     ]
    },
    {
     "name": "stdout",
     "output_type": "stream",
     "text": [
      "    test_acc: 96.00% |     test_loss: 0.337 | bleu_score: 0.974 | [pred: contented target: contented]\n",
      "new_test_acc: 48.00% | new_test_loss: 1.263 | bleu_score: 0.695 | [pred: appreciate, target: appreciate]\n"
     ]
    },
    {
     "name": "stderr",
     "output_type": "stream",
     "text": [
      "epoch81: 100%|██████████| 808/808 [03:23<00:00,  3.97iter/s, loss: 0.171]\n"
     ]
    },
    {
     "name": "stdout",
     "output_type": "stream",
     "text": [
      "    test_acc: 96.00% |     test_loss: 0.330 | bleu_score: 0.974 | [pred: contented target: contented]\n",
      "new_test_acc: 48.00% | new_test_loss: 1.305 | bleu_score: 0.691 | [pred: appreciate, target: appreciate]\n"
     ]
    },
    {
     "name": "stderr",
     "output_type": "stream",
     "text": [
      "epoch82: 100%|██████████| 808/808 [03:25<00:00,  3.94iter/s, loss: 0.167]\n"
     ]
    },
    {
     "name": "stdout",
     "output_type": "stream",
     "text": [
      "    test_acc: 96.00% |     test_loss: 0.322 | bleu_score: 0.974 | [pred: contented target: contented]\n",
      "new_test_acc: 46.00% | new_test_loss: 1.241 | bleu_score: 0.686 | [pred: appreciate, target: appreciate]\n"
     ]
    },
    {
     "name": "stderr",
     "output_type": "stream",
     "text": [
      "epoch83: 100%|██████████| 808/808 [03:25<00:00,  3.94iter/s, loss: 0.169]\n"
     ]
    },
    {
     "name": "stdout",
     "output_type": "stream",
     "text": [
      "    test_acc: 94.00% |     test_loss: 0.381 | bleu_score: 0.961 | [pred: continupted target: contented]\n",
      "new_test_acc: 44.00% | new_test_loss: 1.501 | bleu_score: 0.668 | [pred: appreciate, target: appreciate]\n"
     ]
    },
    {
     "name": "stderr",
     "output_type": "stream",
     "text": [
      "epoch84: 100%|██████████| 808/808 [03:25<00:00,  3.94iter/s, loss: 0.165]\n"
     ]
    },
    {
     "name": "stdout",
     "output_type": "stream",
     "text": [
      "    test_acc: 90.00% |     test_loss: 0.432 | bleu_score: 0.942 | [pred: continted target: contented]\n",
      "new_test_acc: 50.00% | new_test_loss: 1.454 | bleu_score: 0.685 | [pred: appreciate, target: appreciate]\n"
     ]
    },
    {
     "name": "stderr",
     "output_type": "stream",
     "text": [
      "epoch85: 100%|██████████| 808/808 [03:26<00:00,  3.91iter/s, loss: 0.169]\n"
     ]
    },
    {
     "name": "stdout",
     "output_type": "stream",
     "text": [
      "    test_acc: 96.00% |     test_loss: 0.346 | bleu_score: 0.974 | [pred: contented target: contented]\n",
      "new_test_acc: 48.00% | new_test_loss: 1.390 | bleu_score: 0.690 | [pred: appreciate, target: appreciate]\n"
     ]
    },
    {
     "name": "stderr",
     "output_type": "stream",
     "text": [
      "epoch86: 100%|██████████| 808/808 [03:25<00:00,  3.94iter/s, loss: 0.165]\n"
     ]
    },
    {
     "name": "stdout",
     "output_type": "stream",
     "text": [
      "    test_acc: 94.00% |     test_loss: 0.400 | bleu_score: 0.961 | [pred: continupted target: contented]\n",
      "new_test_acc: 50.00% | new_test_loss: 1.395 | bleu_score: 0.682 | [pred: appreciate, target: appreciate]\n"
     ]
    },
    {
     "name": "stderr",
     "output_type": "stream",
     "text": [
      "epoch87: 100%|██████████| 808/808 [03:25<00:00,  3.94iter/s, loss: 0.163]\n"
     ]
    },
    {
     "name": "stdout",
     "output_type": "stream",
     "text": [
      "    test_acc: 94.00% |     test_loss: 0.402 | bleu_score: 0.968 | [pred: contented target: contented]\n",
      "new_test_acc: 44.00% | new_test_loss: 1.525 | bleu_score: 0.663 | [pred: appreciate, target: appreciate]\n"
     ]
    },
    {
     "name": "stderr",
     "output_type": "stream",
     "text": [
      "epoch88: 100%|██████████| 808/808 [03:25<00:00,  3.93iter/s, loss: 0.164]\n"
     ]
    },
    {
     "name": "stdout",
     "output_type": "stream",
     "text": [
      "    test_acc: 96.00% |     test_loss: 0.340 | bleu_score: 0.974 | [pred: contented target: contented]\n",
      "new_test_acc: 42.00% | new_test_loss: 1.628 | bleu_score: 0.645 | [pred: appreciate, target: appreciate]\n"
     ]
    },
    {
     "name": "stderr",
     "output_type": "stream",
     "text": [
      "epoch89: 100%|██████████| 808/808 [03:25<00:00,  3.92iter/s, loss: 0.163]\n"
     ]
    },
    {
     "name": "stdout",
     "output_type": "stream",
     "text": [
      "    test_acc: 96.00% |     test_loss: 0.338 | bleu_score: 0.974 | [pred: contented target: contented]\n",
      "new_test_acc: 46.00% | new_test_loss: 1.173 | bleu_score: 0.667 | [pred: appreciate, target: appreciate]\n"
     ]
    },
    {
     "name": "stderr",
     "output_type": "stream",
     "text": [
      "epoch90: 100%|██████████| 808/808 [03:24<00:00,  3.94iter/s, loss: 0.161]\n"
     ]
    },
    {
     "name": "stdout",
     "output_type": "stream",
     "text": [
      "    test_acc: 96.00% |     test_loss: 0.338 | bleu_score: 0.974 | [pred: contented target: contented]\n",
      "new_test_acc: 48.00% | new_test_loss: 1.082 | bleu_score: 0.674 | [pred: appreciate, target: appreciate]\n"
     ]
    },
    {
     "name": "stderr",
     "output_type": "stream",
     "text": [
      "epoch91: 100%|██████████| 808/808 [03:26<00:00,  3.91iter/s, loss: 0.159]\n"
     ]
    },
    {
     "name": "stdout",
     "output_type": "stream",
     "text": [
      "    test_acc: 96.00% |     test_loss: 0.346 | bleu_score: 0.974 | [pred: contented target: contented]\n",
      "new_test_acc: 46.00% | new_test_loss: 1.353 | bleu_score: 0.669 | [pred: appreciate, target: appreciate]\n"
     ]
    },
    {
     "name": "stderr",
     "output_type": "stream",
     "text": [
      "epoch92: 100%|██████████| 808/808 [03:23<00:00,  3.97iter/s, loss: 0.159]\n"
     ]
    },
    {
     "name": "stdout",
     "output_type": "stream",
     "text": [
      "    test_acc: 96.00% |     test_loss: 0.337 | bleu_score: 0.974 | [pred: contented target: contented]\n",
      "new_test_acc: 48.00% | new_test_loss: 1.373 | bleu_score: 0.675 | [pred: appreciate, target: appreciate]\n"
     ]
    },
    {
     "name": "stderr",
     "output_type": "stream",
     "text": [
      "epoch93: 100%|██████████| 808/808 [03:25<00:00,  3.94iter/s, loss: 0.156]\n"
     ]
    },
    {
     "name": "stdout",
     "output_type": "stream",
     "text": [
      "    test_acc: 96.00% |     test_loss: 0.357 | bleu_score: 0.974 | [pred: contented target: contented]\n",
      "new_test_acc: 44.00% | new_test_loss: 1.390 | bleu_score: 0.662 | [pred: appreciate, target: appreciate]\n"
     ]
    },
    {
     "name": "stderr",
     "output_type": "stream",
     "text": [
      "epoch94: 100%|██████████| 808/808 [03:24<00:00,  3.94iter/s, loss: 0.155]\n"
     ]
    },
    {
     "name": "stdout",
     "output_type": "stream",
     "text": [
      "    test_acc: 96.00% |     test_loss: 0.339 | bleu_score: 0.974 | [pred: contented target: contented]\n",
      "new_test_acc: 46.00% | new_test_loss: 1.286 | bleu_score: 0.675 | [pred: appreciate, target: appreciate]\n"
     ]
    },
    {
     "name": "stderr",
     "output_type": "stream",
     "text": [
      "epoch95: 100%|██████████| 808/808 [03:24<00:00,  3.95iter/s, loss: 0.155]\n"
     ]
    },
    {
     "name": "stdout",
     "output_type": "stream",
     "text": [
      "    test_acc: 94.00% |     test_loss: 0.381 | bleu_score: 0.956 | [pred: contented target: contented]\n",
      "new_test_acc: 46.00% | new_test_loss: 1.403 | bleu_score: 0.663 | [pred: appreciate, target: appreciate]\n"
     ]
    },
    {
     "name": "stderr",
     "output_type": "stream",
     "text": [
      "epoch96: 100%|██████████| 808/808 [03:25<00:00,  3.93iter/s, loss: 0.155]\n"
     ]
    },
    {
     "name": "stdout",
     "output_type": "stream",
     "text": [
      "    test_acc: 96.00% |     test_loss: 0.347 | bleu_score: 0.974 | [pred: contented target: contented]\n",
      "new_test_acc: 48.00% | new_test_loss: 1.491 | bleu_score: 0.669 | [pred: appreciate, target: appreciate]\n"
     ]
    },
    {
     "name": "stderr",
     "output_type": "stream",
     "text": [
      "epoch97: 100%|██████████| 808/808 [03:25<00:00,  3.93iter/s, loss: 0.151]\n"
     ]
    },
    {
     "name": "stdout",
     "output_type": "stream",
     "text": [
      "    test_acc: 92.00% |     test_loss: 0.383 | bleu_score: 0.948 | [pred: continted target: contented]\n",
      "new_test_acc: 46.00% | new_test_loss: 1.491 | bleu_score: 0.652 | [pred: appreciate, target: appreciate]\n"
     ]
    },
    {
     "name": "stderr",
     "output_type": "stream",
     "text": [
      "epoch98: 100%|██████████| 808/808 [03:26<00:00,  3.90iter/s, loss: 0.152]\n"
     ]
    },
    {
     "name": "stdout",
     "output_type": "stream",
     "text": [
      "    test_acc: 96.00% |     test_loss: 0.342 | bleu_score: 0.974 | [pred: contented target: contented]\n",
      "new_test_acc: 44.00% | new_test_loss: 1.443 | bleu_score: 0.644 | [pred: appreciate, target: appreciate]\n"
     ]
    },
    {
     "name": "stderr",
     "output_type": "stream",
     "text": [
      "epoch99: 100%|██████████| 808/808 [03:23<00:00,  3.96iter/s, loss: 0.149]\n"
     ]
    },
    {
     "name": "stdout",
     "output_type": "stream",
     "text": [
      "    test_acc: 94.00% |     test_loss: 0.386 | bleu_score: 0.956 | [pred: contented target: contented]\n",
      "new_test_acc: 44.00% | new_test_loss: 1.445 | bleu_score: 0.654 | [pred: appreciate, target: appreciate]\n"
     ]
    },
    {
     "name": "stderr",
     "output_type": "stream",
     "text": [
      "epoch100: 100%|██████████| 808/808 [03:24<00:00,  3.95iter/s, loss: 0.149]\n"
     ]
    },
    {
     "name": "stdout",
     "output_type": "stream",
     "text": [
      "    test_acc: 90.00% |     test_loss: 0.450 | bleu_score: 0.943 | [pred: continted target: contented]\n",
      "new_test_acc: 46.00% | new_test_loss: 1.837 | bleu_score: 0.652 | [pred: appreciate, target: appreciate]\n"
     ]
    },
    {
     "name": "stderr",
     "output_type": "stream",
     "text": [
      "epoch101: 100%|██████████| 808/808 [03:24<00:00,  3.94iter/s, loss: 0.143]\n"
     ]
    },
    {
     "name": "stdout",
     "output_type": "stream",
     "text": [
      "    test_acc: 92.00% |     test_loss: 0.386 | bleu_score: 0.949 | [pred: continted target: contented]\n",
      "new_test_acc: 46.00% | new_test_loss: 1.438 | bleu_score: 0.657 | [pred: appreciate, target: appreciate]\n"
     ]
    },
    {
     "name": "stderr",
     "output_type": "stream",
     "text": [
      "epoch102: 100%|██████████| 808/808 [03:24<00:00,  3.95iter/s, loss: 0.143]\n"
     ]
    },
    {
     "name": "stdout",
     "output_type": "stream",
     "text": [
      "    test_acc: 92.00% |     test_loss: 0.379 | bleu_score: 0.949 | [pred: continted target: contented]\n",
      "new_test_acc: 48.00% | new_test_loss: 1.577 | bleu_score: 0.660 | [pred: appreciate, target: appreciate]\n"
     ]
    },
    {
     "name": "stderr",
     "output_type": "stream",
     "text": [
      "epoch103: 100%|██████████| 808/808 [03:23<00:00,  3.97iter/s, loss: 0.142]\n"
     ]
    },
    {
     "name": "stdout",
     "output_type": "stream",
     "text": [
      "    test_acc: 88.00% |     test_loss: 0.474 | bleu_score: 0.925 | [pred: continted target: contented]\n",
      "new_test_acc: 48.00% | new_test_loss: 1.457 | bleu_score: 0.661 | [pred: appreciate, target: appreciate]\n"
     ]
    },
    {
     "name": "stderr",
     "output_type": "stream",
     "text": [
      "epoch104: 100%|██████████| 808/808 [03:26<00:00,  3.91iter/s, loss: 0.141]\n"
     ]
    },
    {
     "name": "stdout",
     "output_type": "stream",
     "text": [
      "    test_acc: 92.00% |     test_loss: 0.383 | bleu_score: 0.949 | [pred: continted target: contented]\n",
      "new_test_acc: 46.00% | new_test_loss: 1.350 | bleu_score: 0.651 | [pred: appreciate, target: appreciate]\n"
     ]
    },
    {
     "name": "stderr",
     "output_type": "stream",
     "text": [
      "epoch105: 100%|██████████| 808/808 [03:25<00:00,  3.93iter/s, loss: 0.139]\n"
     ]
    },
    {
     "name": "stdout",
     "output_type": "stream",
     "text": [
      "    test_acc: 92.00% |     test_loss: 0.384 | bleu_score: 0.949 | [pred: continted target: contented]\n",
      "new_test_acc: 46.00% | new_test_loss: 1.560 | bleu_score: 0.665 | [pred: appreciate, target: appreciate]\n"
     ]
    },
    {
     "name": "stderr",
     "output_type": "stream",
     "text": [
      "epoch106: 100%|██████████| 808/808 [03:25<00:00,  3.93iter/s, loss: 0.142]\n"
     ]
    },
    {
     "name": "stdout",
     "output_type": "stream",
     "text": [
      "    test_acc: 90.00% |     test_loss: 0.502 | bleu_score: 0.938 | [pred: continupted target: contented]\n",
      "new_test_acc: 50.00% | new_test_loss: 1.434 | bleu_score: 0.678 | [pred: appreciate, target: appreciate]\n"
     ]
    },
    {
     "name": "stderr",
     "output_type": "stream",
     "text": [
      "epoch107: 100%|██████████| 808/808 [03:25<00:00,  3.94iter/s, loss: 0.138]\n"
     ]
    },
    {
     "name": "stdout",
     "output_type": "stream",
     "text": [
      "    test_acc: 90.00% |     test_loss: 0.449 | bleu_score: 0.943 | [pred: continted target: contented]\n",
      "new_test_acc: 50.00% | new_test_loss: 1.325 | bleu_score: 0.683 | [pred: appreciate, target: appreciate]\n"
     ]
    },
    {
     "name": "stderr",
     "output_type": "stream",
     "text": [
      "epoch108: 100%|██████████| 808/808 [03:25<00:00,  3.93iter/s, loss: 0.139]\n"
     ]
    },
    {
     "name": "stdout",
     "output_type": "stream",
     "text": [
      "    test_acc: 90.00% |     test_loss: 0.472 | bleu_score: 0.926 | [pred: continupted target: contented]\n",
      "new_test_acc: 50.00% | new_test_loss: 1.555 | bleu_score: 0.686 | [pred: appreciate, target: appreciate]\n"
     ]
    },
    {
     "name": "stderr",
     "output_type": "stream",
     "text": [
      "epoch109: 100%|██████████| 808/808 [03:24<00:00,  3.95iter/s, loss: 0.138]\n"
     ]
    },
    {
     "name": "stdout",
     "output_type": "stream",
     "text": [
      "    test_acc: 92.00% |     test_loss: 0.388 | bleu_score: 0.948 | [pred: continted target: contented]\n",
      "new_test_acc: 50.00% | new_test_loss: 1.538 | bleu_score: 0.675 | [pred: appreciate, target: appreciate]\n"
     ]
    },
    {
     "name": "stderr",
     "output_type": "stream",
     "text": [
      "epoch110: 100%|██████████| 808/808 [03:26<00:00,  3.92iter/s, loss: 0.136]\n"
     ]
    },
    {
     "name": "stdout",
     "output_type": "stream",
     "text": [
      "    test_acc: 94.00% |     test_loss: 0.404 | bleu_score: 0.957 | [pred: contented target: contented]\n",
      "new_test_acc: 50.00% | new_test_loss: 1.378 | bleu_score: 0.692 | [pred: appreciate, target: appreciate]\n"
     ]
    },
    {
     "name": "stderr",
     "output_type": "stream",
     "text": [
      "epoch111: 100%|██████████| 808/808 [03:24<00:00,  3.96iter/s, loss: 0.136]\n"
     ]
    },
    {
     "name": "stdout",
     "output_type": "stream",
     "text": [
      "    test_acc: 92.00% |     test_loss: 0.444 | bleu_score: 0.951 | [pred: contented target: contented]\n",
      "new_test_acc: 50.00% | new_test_loss: 1.445 | bleu_score: 0.687 | [pred: appreciate, target: appreciate]\n"
     ]
    },
    {
     "name": "stderr",
     "output_type": "stream",
     "text": [
      "epoch112: 100%|██████████| 808/808 [03:25<00:00,  3.94iter/s, loss: 0.135]\n"
     ]
    },
    {
     "name": "stdout",
     "output_type": "stream",
     "text": [
      "    test_acc: 94.00% |     test_loss: 0.390 | bleu_score: 0.956 | [pred: contented target: contented]\n",
      "new_test_acc: 50.00% | new_test_loss: 1.579 | bleu_score: 0.681 | [pred: appreciate, target: appreciate]\n"
     ]
    },
    {
     "name": "stderr",
     "output_type": "stream",
     "text": [
      "epoch113: 100%|██████████| 808/808 [03:24<00:00,  3.94iter/s, loss: 0.136]\n"
     ]
    },
    {
     "name": "stdout",
     "output_type": "stream",
     "text": [
      "    test_acc: 92.00% |     test_loss: 0.419 | bleu_score: 0.939 | [pred: contented target: contented]\n",
      "new_test_acc: 50.00% | new_test_loss: 1.435 | bleu_score: 0.678 | [pred: appreciate, target: appreciate]\n"
     ]
    },
    {
     "name": "stderr",
     "output_type": "stream",
     "text": [
      "epoch114: 100%|██████████| 808/808 [03:23<00:00,  3.97iter/s, loss: 0.135]\n"
     ]
    },
    {
     "name": "stdout",
     "output_type": "stream",
     "text": [
      "    test_acc: 92.00% |     test_loss: 0.421 | bleu_score: 0.939 | [pred: contented target: contented]\n",
      "new_test_acc: 52.00% | new_test_loss: 1.513 | bleu_score: 0.694 | [pred: appreciate, target: appreciate]\n"
     ]
    },
    {
     "name": "stderr",
     "output_type": "stream",
     "text": [
      "epoch115: 100%|██████████| 808/808 [03:25<00:00,  3.93iter/s, loss: 0.135]\n"
     ]
    },
    {
     "name": "stdout",
     "output_type": "stream",
     "text": [
      "    test_acc: 92.00% |     test_loss: 0.417 | bleu_score: 0.939 | [pred: contented target: contented]\n",
      "new_test_acc: 50.00% | new_test_loss: 1.441 | bleu_score: 0.678 | [pred: appreciate, target: appreciate]\n"
     ]
    },
    {
     "name": "stderr",
     "output_type": "stream",
     "text": [
      "epoch116: 100%|██████████| 808/808 [03:25<00:00,  3.93iter/s, loss: 0.135]\n"
     ]
    },
    {
     "name": "stdout",
     "output_type": "stream",
     "text": [
      "    test_acc: 92.00% |     test_loss: 0.406 | bleu_score: 0.948 | [pred: continted target: contented]\n",
      "new_test_acc: 50.00% | new_test_loss: 1.236 | bleu_score: 0.685 | [pred: appreciate, target: appreciate]\n"
     ]
    },
    {
     "name": "stderr",
     "output_type": "stream",
     "text": [
      "epoch117: 100%|██████████| 808/808 [03:24<00:00,  3.95iter/s, loss: 0.134]\n"
     ]
    },
    {
     "name": "stdout",
     "output_type": "stream",
     "text": [
      "    test_acc: 94.00% |     test_loss: 0.393 | bleu_score: 0.956 | [pred: contented target: contented]\n",
      "new_test_acc: 46.00% | new_test_loss: 1.437 | bleu_score: 0.659 | [pred: appreciate, target: appreciate]\n"
     ]
    },
    {
     "name": "stderr",
     "output_type": "stream",
     "text": [
      "epoch118: 100%|██████████| 808/808 [03:25<00:00,  3.93iter/s, loss: 0.133]\n"
     ]
    },
    {
     "name": "stdout",
     "output_type": "stream",
     "text": [
      "    test_acc: 92.00% |     test_loss: 0.395 | bleu_score: 0.948 | [pred: continted target: contented]\n",
      "new_test_acc: 48.00% | new_test_loss: 1.328 | bleu_score: 0.667 | [pred: appreciate, target: appreciate]\n"
     ]
    },
    {
     "name": "stderr",
     "output_type": "stream",
     "text": [
      "epoch119: 100%|██████████| 808/808 [03:26<00:00,  3.91iter/s, loss: 0.133]\n"
     ]
    },
    {
     "name": "stdout",
     "output_type": "stream",
     "text": [
      "    test_acc: 92.00% |     test_loss: 0.392 | bleu_score: 0.948 | [pred: continted target: contented]\n",
      "new_test_acc: 50.00% | new_test_loss: 1.280 | bleu_score: 0.687 | [pred: appreciate, target: appreciate]\n"
     ]
    },
    {
     "name": "stderr",
     "output_type": "stream",
     "text": [
      "epoch120: 100%|██████████| 808/808 [03:24<00:00,  3.96iter/s, loss: 0.132]\n"
     ]
    },
    {
     "name": "stdout",
     "output_type": "stream",
     "text": [
      "    test_acc: 94.00% |     test_loss: 0.397 | bleu_score: 0.956 | [pred: contented target: contented]\n",
      "new_test_acc: 48.00% | new_test_loss: 1.382 | bleu_score: 0.666 | [pred: appreciate, target: appreciate]\n"
     ]
    },
    {
     "name": "stderr",
     "output_type": "stream",
     "text": [
      "epoch121: 100%|██████████| 808/808 [03:23<00:00,  3.97iter/s, loss: 0.131]\n"
     ]
    },
    {
     "name": "stdout",
     "output_type": "stream",
     "text": [
      "    test_acc: 94.00% |     test_loss: 0.395 | bleu_score: 0.956 | [pred: contented target: contented]\n",
      "new_test_acc: 48.00% | new_test_loss: 1.303 | bleu_score: 0.670 | [pred: appreciate, target: appreciate]\n"
     ]
    },
    {
     "name": "stderr",
     "output_type": "stream",
     "text": [
      "epoch122: 100%|██████████| 808/808 [03:24<00:00,  3.96iter/s, loss: 0.131]\n"
     ]
    },
    {
     "name": "stdout",
     "output_type": "stream",
     "text": [
      "    test_acc: 92.00% |     test_loss: 0.425 | bleu_score: 0.939 | [pred: contented target: contented]\n",
      "new_test_acc: 50.00% | new_test_loss: 1.434 | bleu_score: 0.687 | [pred: appreciate, target: appreciate]\n"
     ]
    },
    {
     "name": "stderr",
     "output_type": "stream",
     "text": [
      "epoch123: 100%|██████████| 808/808 [03:25<00:00,  3.93iter/s, loss: 0.131]\n"
     ]
    },
    {
     "name": "stdout",
     "output_type": "stream",
     "text": [
      "    test_acc: 88.00% |     test_loss: 0.478 | bleu_score: 0.925 | [pred: continted target: contented]\n",
      "new_test_acc: 46.00% | new_test_loss: 1.776 | bleu_score: 0.667 | [pred: appreciate, target: appreciate]\n"
     ]
    },
    {
     "name": "stderr",
     "output_type": "stream",
     "text": [
      "epoch124: 100%|██████████| 808/808 [03:25<00:00,  3.93iter/s, loss: 0.132]\n"
     ]
    },
    {
     "name": "stdout",
     "output_type": "stream",
     "text": [
      "    test_acc: 92.00% |     test_loss: 0.452 | bleu_score: 0.951 | [pred: contented target: contented]\n",
      "new_test_acc: 50.00% | new_test_loss: 1.592 | bleu_score: 0.696 | [pred: appreciate, target: appreciate]\n"
     ]
    },
    {
     "name": "stderr",
     "output_type": "stream",
     "text": [
      "epoch125: 100%|██████████| 808/808 [03:21<00:00,  4.01iter/s, loss: 0.129]\n"
     ]
    },
    {
     "name": "stdout",
     "output_type": "stream",
     "text": [
      "    test_acc: 92.00% |     test_loss: 0.431 | bleu_score: 0.939 | [pred: contented target: contented]\n",
      "new_test_acc: 46.00% | new_test_loss: 1.582 | bleu_score: 0.666 | [pred: appreciate, target: appreciate]\n"
     ]
    },
    {
     "name": "stderr",
     "output_type": "stream",
     "text": [
      "epoch126: 100%|██████████| 808/808 [03:20<00:00,  4.03iter/s, loss: 0.128]\n"
     ]
    },
    {
     "name": "stdout",
     "output_type": "stream",
     "text": [
      "    test_acc: 94.00% |     test_loss: 0.400 | bleu_score: 0.956 | [pred: contented target: contented]\n",
      "new_test_acc: 46.00% | new_test_loss: 1.507 | bleu_score: 0.665 | [pred: appreciate, target: appreciate]\n"
     ]
    },
    {
     "name": "stderr",
     "output_type": "stream",
     "text": [
      "epoch127: 100%|██████████| 808/808 [03:20<00:00,  4.02iter/s, loss: 0.126]\n"
     ]
    },
    {
     "name": "stdout",
     "output_type": "stream",
     "text": [
      "    test_acc: 94.00% |     test_loss: 0.398 | bleu_score: 0.956 | [pred: contented target: contented]\n",
      "new_test_acc: 46.00% | new_test_loss: 1.468 | bleu_score: 0.666 | [pred: appreciate, target: appreciate]\n"
     ]
    },
    {
     "name": "stderr",
     "output_type": "stream",
     "text": [
      "epoch128: 100%|██████████| 808/808 [03:19<00:00,  4.05iter/s, loss: 0.128]\n"
     ]
    },
    {
     "name": "stdout",
     "output_type": "stream",
     "text": [
      "    test_acc: 94.00% |     test_loss: 0.401 | bleu_score: 0.956 | [pred: contented target: contented]\n",
      "new_test_acc: 46.00% | new_test_loss: 1.371 | bleu_score: 0.652 | [pred: appreciate, target: appreciate]\n"
     ]
    },
    {
     "name": "stderr",
     "output_type": "stream",
     "text": [
      "epoch129: 100%|██████████| 808/808 [03:18<00:00,  4.08iter/s, loss: 0.127]\n"
     ]
    },
    {
     "name": "stdout",
     "output_type": "stream",
     "text": [
      "    test_acc: 94.00% |     test_loss: 0.400 | bleu_score: 0.956 | [pred: contented target: contented]\n",
      "new_test_acc: 46.00% | new_test_loss: 1.563 | bleu_score: 0.662 | [pred: appreciate, target: appreciate]\n"
     ]
    },
    {
     "name": "stderr",
     "output_type": "stream",
     "text": [
      "epoch130: 100%|██████████| 808/808 [03:20<00:00,  4.03iter/s, loss: 0.127]\n"
     ]
    },
    {
     "name": "stdout",
     "output_type": "stream",
     "text": [
      "    test_acc: 96.00% |     test_loss: 0.365 | bleu_score: 0.974 | [pred: contented target: contented]\n",
      "new_test_acc: 46.00% | new_test_loss: 1.479 | bleu_score: 0.658 | [pred: appreciate, target: appreciate]\n"
     ]
    },
    {
     "name": "stderr",
     "output_type": "stream",
     "text": [
      "epoch131: 100%|██████████| 808/808 [03:20<00:00,  4.02iter/s, loss: 0.126]\n"
     ]
    },
    {
     "name": "stdout",
     "output_type": "stream",
     "text": [
      "    test_acc: 94.00% |     test_loss: 0.399 | bleu_score: 0.956 | [pred: contented target: contented]\n",
      "new_test_acc: 46.00% | new_test_loss: 1.368 | bleu_score: 0.670 | [pred: appreciate, target: appreciate]\n"
     ]
    },
    {
     "name": "stderr",
     "output_type": "stream",
     "text": [
      "epoch132: 100%|██████████| 808/808 [03:19<00:00,  4.05iter/s, loss: 0.127]\n"
     ]
    },
    {
     "name": "stdout",
     "output_type": "stream",
     "text": [
      "    test_acc: 94.00% |     test_loss: 0.401 | bleu_score: 0.956 | [pred: contented target: contented]\n",
      "new_test_acc: 48.00% | new_test_loss: 1.343 | bleu_score: 0.667 | [pred: appreciate, target: appreciate]\n"
     ]
    },
    {
     "name": "stderr",
     "output_type": "stream",
     "text": [
      "epoch133: 100%|██████████| 808/808 [03:19<00:00,  4.05iter/s, loss: 0.127]\n"
     ]
    },
    {
     "name": "stdout",
     "output_type": "stream",
     "text": [
      "    test_acc: 94.00% |     test_loss: 0.402 | bleu_score: 0.956 | [pred: contented target: contented]\n",
      "new_test_acc: 46.00% | new_test_loss: 1.343 | bleu_score: 0.664 | [pred: appreciate, target: appreciate]\n"
     ]
    },
    {
     "name": "stderr",
     "output_type": "stream",
     "text": [
      "epoch134: 100%|██████████| 808/808 [03:20<00:00,  4.03iter/s, loss: 0.125]\n"
     ]
    },
    {
     "name": "stdout",
     "output_type": "stream",
     "text": [
      "    test_acc: 94.00% |     test_loss: 0.401 | bleu_score: 0.956 | [pred: contented target: contented]\n",
      "new_test_acc: 50.00% | new_test_loss: 1.343 | bleu_score: 0.694 | [pred: appreciate, target: appreciate]\n"
     ]
    },
    {
     "name": "stderr",
     "output_type": "stream",
     "text": [
      "epoch135: 100%|██████████| 808/808 [03:21<00:00,  4.01iter/s, loss: 0.123]\n"
     ]
    },
    {
     "name": "stdout",
     "output_type": "stream",
     "text": [
      "    test_acc: 94.00% |     test_loss: 0.401 | bleu_score: 0.956 | [pred: contented target: contented]\n",
      "new_test_acc: 48.00% | new_test_loss: 1.344 | bleu_score: 0.680 | [pred: appreciate, target: appreciate]\n"
     ]
    },
    {
     "name": "stderr",
     "output_type": "stream",
     "text": [
      "epoch136: 100%|██████████| 808/808 [03:19<00:00,  4.05iter/s, loss: 0.122]\n"
     ]
    },
    {
     "name": "stdout",
     "output_type": "stream",
     "text": [
      "    test_acc: 94.00% |     test_loss: 0.396 | bleu_score: 0.956 | [pred: contented target: contented]\n",
      "new_test_acc: 50.00% | new_test_loss: 1.471 | bleu_score: 0.689 | [pred: appreciate, target: appreciate]\n"
     ]
    },
    {
     "name": "stderr",
     "output_type": "stream",
     "text": [
      "epoch137: 100%|██████████| 808/808 [03:21<00:00,  4.01iter/s, loss: 0.123]\n"
     ]
    },
    {
     "name": "stdout",
     "output_type": "stream",
     "text": [
      "    test_acc: 94.00% |     test_loss: 0.397 | bleu_score: 0.956 | [pred: contented target: contented]\n",
      "new_test_acc: 48.00% | new_test_loss: 1.346 | bleu_score: 0.678 | [pred: appreciate, target: appreciate]\n"
     ]
    },
    {
     "name": "stderr",
     "output_type": "stream",
     "text": [
      "epoch138: 100%|██████████| 808/808 [03:20<00:00,  4.03iter/s, loss: 0.123]\n"
     ]
    },
    {
     "name": "stdout",
     "output_type": "stream",
     "text": [
      "    test_acc: 94.00% |     test_loss: 0.394 | bleu_score: 0.956 | [pred: contented target: contented]\n",
      "new_test_acc: 48.00% | new_test_loss: 1.470 | bleu_score: 0.662 | [pred: appreciate, target: appreciate]\n"
     ]
    },
    {
     "name": "stderr",
     "output_type": "stream",
     "text": [
      "epoch139: 100%|██████████| 808/808 [03:21<00:00,  4.02iter/s, loss: 0.123]\n"
     ]
    },
    {
     "name": "stdout",
     "output_type": "stream",
     "text": [
      "    test_acc: 94.00% |     test_loss: 0.397 | bleu_score: 0.956 | [pred: contented target: contented]\n",
      "new_test_acc: 48.00% | new_test_loss: 1.463 | bleu_score: 0.673 | [pred: appreciate, target: appreciate]\n"
     ]
    },
    {
     "name": "stderr",
     "output_type": "stream",
     "text": [
      "epoch140: 100%|██████████| 808/808 [03:20<00:00,  4.03iter/s, loss: 0.124]\n"
     ]
    },
    {
     "name": "stdout",
     "output_type": "stream",
     "text": [
      "    test_acc: 94.00% |     test_loss: 0.395 | bleu_score: 0.956 | [pred: contented target: contented]\n",
      "new_test_acc: 48.00% | new_test_loss: 1.344 | bleu_score: 0.678 | [pred: appreciate, target: appreciate]\n"
     ]
    },
    {
     "name": "stderr",
     "output_type": "stream",
     "text": [
      "epoch141: 100%|██████████| 808/808 [03:19<00:00,  4.04iter/s, loss: 0.125]\n"
     ]
    },
    {
     "name": "stdout",
     "output_type": "stream",
     "text": [
      "    test_acc: 92.00% |     test_loss: 0.396 | bleu_score: 0.948 | [pred: continted target: contented]\n",
      "new_test_acc: 48.00% | new_test_loss: 1.350 | bleu_score: 0.678 | [pred: appreciate, target: appreciate]\n"
     ]
    },
    {
     "name": "stderr",
     "output_type": "stream",
     "text": [
      "epoch142: 100%|██████████| 808/808 [03:21<00:00,  4.01iter/s, loss: 0.122]\n"
     ]
    },
    {
     "name": "stdout",
     "output_type": "stream",
     "text": [
      "    test_acc: 92.00% |     test_loss: 0.456 | bleu_score: 0.951 | [pred: contented target: contented]\n",
      "new_test_acc: 48.00% | new_test_loss: 1.356 | bleu_score: 0.667 | [pred: appreciate, target: appreciate]\n"
     ]
    },
    {
     "name": "stderr",
     "output_type": "stream",
     "text": [
      "epoch143: 100%|██████████| 808/808 [03:20<00:00,  4.04iter/s, loss: 0.124]\n"
     ]
    },
    {
     "name": "stdout",
     "output_type": "stream",
     "text": [
      "    test_acc: 90.00% |     test_loss: 0.438 | bleu_score: 0.932 | [pred: continted target: contented]\n",
      "new_test_acc: 50.00% | new_test_loss: 1.382 | bleu_score: 0.682 | [pred: appreciate, target: appreciate]\n"
     ]
    },
    {
     "name": "stderr",
     "output_type": "stream",
     "text": [
      "epoch144: 100%|██████████| 808/808 [03:20<00:00,  4.03iter/s, loss: 0.122]\n"
     ]
    },
    {
     "name": "stdout",
     "output_type": "stream",
     "text": [
      "    test_acc: 92.00% |     test_loss: 0.401 | bleu_score: 0.948 | [pred: continted target: contented]\n",
      "new_test_acc: 48.00% | new_test_loss: 1.357 | bleu_score: 0.667 | [pred: appreciate, target: appreciate]\n"
     ]
    },
    {
     "name": "stderr",
     "output_type": "stream",
     "text": [
      "epoch145: 100%|██████████| 808/808 [03:19<00:00,  4.04iter/s, loss: 0.122]\n"
     ]
    },
    {
     "name": "stdout",
     "output_type": "stream",
     "text": [
      "    test_acc: 92.00% |     test_loss: 0.399 | bleu_score: 0.948 | [pred: continted target: contented]\n",
      "new_test_acc: 48.00% | new_test_loss: 1.353 | bleu_score: 0.667 | [pred: appreciate, target: appreciate]\n"
     ]
    },
    {
     "name": "stderr",
     "output_type": "stream",
     "text": [
      "epoch146: 100%|██████████| 808/808 [03:19<00:00,  4.05iter/s, loss: 0.122]\n"
     ]
    },
    {
     "name": "stdout",
     "output_type": "stream",
     "text": [
      "    test_acc: 92.00% |     test_loss: 0.399 | bleu_score: 0.948 | [pred: continted target: contented]\n",
      "new_test_acc: 48.00% | new_test_loss: 1.348 | bleu_score: 0.667 | [pred: appreciate, target: appreciate]\n"
     ]
    },
    {
     "name": "stderr",
     "output_type": "stream",
     "text": [
      "epoch147: 100%|██████████| 808/808 [03:20<00:00,  4.03iter/s, loss: 0.123]\n"
     ]
    },
    {
     "name": "stdout",
     "output_type": "stream",
     "text": [
      "    test_acc: 94.00% |     test_loss: 0.398 | bleu_score: 0.956 | [pred: contented target: contented]\n",
      "new_test_acc: 50.00% | new_test_loss: 1.351 | bleu_score: 0.684 | [pred: appreciate, target: appreciate]\n"
     ]
    },
    {
     "name": "stderr",
     "output_type": "stream",
     "text": [
      "epoch148: 100%|██████████| 808/808 [03:19<00:00,  4.04iter/s, loss: 0.121]\n"
     ]
    },
    {
     "name": "stdout",
     "output_type": "stream",
     "text": [
      "    test_acc: 94.00% |     test_loss: 0.399 | bleu_score: 0.956 | [pred: contented target: contented]\n",
      "new_test_acc: 48.00% | new_test_loss: 1.350 | bleu_score: 0.667 | [pred: appreciate, target: appreciate]\n"
     ]
    },
    {
     "name": "stderr",
     "output_type": "stream",
     "text": [
      "epoch149: 100%|██████████| 808/808 [03:21<00:00,  4.02iter/s, loss: 0.121]\n"
     ]
    },
    {
     "name": "stdout",
     "output_type": "stream",
     "text": [
      "    test_acc: 96.00% |     test_loss: 0.367 | bleu_score: 0.974 | [pred: contented target: contented]\n",
      "new_test_acc: 48.00% | new_test_loss: 1.354 | bleu_score: 0.678 | [pred: appreciate, target: appreciate]\n"
     ]
    },
    {
     "name": "stderr",
     "output_type": "stream",
     "text": [
      "epoch150: 100%|██████████| 808/808 [03:21<00:00,  4.01iter/s, loss: 0.122]\n"
     ]
    },
    {
     "name": "stdout",
     "output_type": "stream",
     "text": [
      "    test_acc: 96.00% |     test_loss: 0.365 | bleu_score: 0.974 | [pred: contented target: contented]\n",
      "new_test_acc: 48.00% | new_test_loss: 1.357 | bleu_score: 0.667 | [pred: appreciate, target: appreciate]\n"
     ]
    }
   ],
   "source": [
    "for eps in range(150):\n",
    "    \n",
    "    losses = []\n",
    "    model.train()\n",
    "    i_bar = tqdm(trainloader, unit = 'iter', desc = f'epoch{eps + 1}')\n",
    "    for src, tgt in i_bar:\n",
    "        src, tgt = src.to(device), tgt.to(device)\n",
    "        \n",
    "        src_pad_mask = gen_padding_mask(src, pad_idx = 2).to(device)\n",
    "        tgt_pad_mask = gen_padding_mask(tgt, pad_idx = 2).to(device)\n",
    "        tgt_mask = gen_mask(tgt.size(1)).to(device)\n",
    "        \n",
    "        optimizer.zero_grad()\n",
    "        pred = model(src, tgt, src_pad_mask, tgt_mask, tgt_pad_mask)\n",
    "        loss = ce_loss(pred[:, :-1, :].permute(0, 2, 1), tgt[:, 1:])\n",
    "        loss.backward()\n",
    "        optimizer.step()\n",
    "        losses.append(loss.item())\n",
    "        i_bar.set_postfix_str(f\"loss: {sum(losses) / len(losses):.3f}\")\n",
    "    \n",
    "    total_loss = sum(losses) / len(losses)\n",
    "    train_losses.append(total_loss)\n",
    "    scheduler.step()\n",
    "    \n",
    "    model.eval()\n",
    "    with torch.no_grad():\n",
    "        val_acc, val_loss, val_bleu = validation(valloader, model, device, logout = False)\n",
    "    val_losses.append(val_loss)\n",
    "    val_accs.append(val_acc)\n",
    "    val_bleus.append(val_bleu)\n",
    "    \n",
    "    model.eval()\n",
    "    with torch.no_grad():\n",
    "        test_acc, test_loss, test_bleu = validation(testloader, model, device, logout = False)\n",
    "    test_accs.append(test_acc)\n",
    "    test_losses.append(test_loss)\n",
    "    test_bleus.append(test_bleu)\n",
    "    \n",
    "    store = {\n",
    "        'epoch': eps + 1,\n",
    "        'train_losses': train_losses,\n",
    "        'val_losses': val_losses,\n",
    "        'test_losses': test_losses,\n",
    "        'val_bleus': val_bleus,\n",
    "        'test_bleus': test_bleus,\n",
    "        'val_accs': val_accs,\n",
    "        'test_accs': test_accs\n",
    "    }\n",
    "    torch.save(store, 'all_store.pth')\n",
    "    torch.save(model.state_dict(), 'latest-model.pth')\n",
    "    \n",
    "    if val_acc > best_val_acc:\n",
    "        best_val_acc = val_acc\n",
    "        torch.save(model.state_dict(), 'best-model-val-acc.pth')\n",
    "\n",
    "    if test_acc > best_test_acc:\n",
    "        best_test_acc = test_acc\n",
    "        torch.save(model.state_dict(), 'best-model-test-acc.pth')\n",
    "\n",
    "    avg_acc = (val_acc + test_acc) / 2\n",
    "    if avg_acc > best_avg_acc:\n",
    "        best_avg_acc = avg_acc\n",
    "        torch.save(model.state_dict(), 'best-model-avg-acc.pth')"
   ]
  },
  {
   "cell_type": "code",
   "execution_count": 15,
   "metadata": {},
   "outputs": [
    {
     "data": {
      "image/png": "[encoded data removed]",
      "text/plain": [
       "<Figure size 864x720 with 3 Axes>"
      ]
     },
     "metadata": {
      "needs_background": "light"
     },
     "output_type": "display_data"
    }
   ],
   "source": [
    "%matplotlib inline\n",
    "plt.figure(figsize = (12, 10))\n",
    "\n",
    "plt.subplot(2, 2, 1)\n",
    "plt.plot(train_losses, label = 'Train Loss')\n",
    "plt.xlabel('Epochs')\n",
    "plt.ylabel('Loss')\n",
    "plt.title('Train Loss Over Epochs')\n",
    "plt.legend()\n",
    "plt.grid()\n",
    "\n",
    "plt.subplot(2, 2, 2)\n",
    "plt.plot([acc for acc in val_accs], label = 'Test Accuracy')\n",
    "plt.plot([acc for acc in test_accs], label = 'New Test Accuracy')\n",
    "plt.xlabel('Epochs')\n",
    "plt.ylabel('Accuracy (%)')\n",
    "plt.title('Test/New Test Accuracy Over Epochs')\n",
    "plt.legend()\n",
    "plt.grid()\n",
    "\n",
    "plt.subplot(2, 2, 3)\n",
    "plt.plot(val_bleus, label = 'Test BLEU')\n",
    "plt.plot(test_bleus, label = 'New Test BLEU')\n",
    "plt.xlabel('Epochs')\n",
    "plt.ylabel('BLEU Score')\n",
    "plt.title('Test/New Test BLEU Score Over Epochs')\n",
    "plt.legend()\n",
    "plt.grid()\n",
    "\n",
    "plt.savefig('pic_all.png')\n",
    "plt.show()"
   ]
  },
  {
   "cell_type": "code",
   "execution_count": 16,
   "metadata": {},
   "outputs": [
    {
     "name": "stdout",
     "output_type": "stream",
     "text": [
      "====================\n",
      "input: contenpted\n",
      "pred: contented\n",
      "target: contented\n",
      "====================\n",
      "input: begining\n",
      "pred: beginning\n",
      "target: beginning\n",
      "====================\n",
      "input: problam\n",
      "pred: problem\n",
      "target: problem\n",
      "====================\n",
      "input: dirven\n",
      "pred: driven\n",
      "target: driven\n",
      "====================\n",
      "input: ecstacy\n",
      "pred: ecstasy\n",
      "target: ecstasy\n",
      "====================\n",
      "input: juce\n",
      "pred: juice\n",
      "target: juice\n",
      "====================\n",
      "input: localy\n",
      "pred: locally\n",
      "target: locally\n",
      "====================\n",
      "input: compair\n",
      "pred: compare\n",
      "target: compare\n",
      "====================\n",
      "input: pronounciation\n",
      "pred: pronunciation\n",
      "target: pronunciation\n",
      "====================\n",
      "input: transportibility\n",
      "pred: transportability\n",
      "target: transportability\n",
      "====================\n",
      "input: miniscule\n",
      "pred: minuscule\n",
      "target: minuscule\n",
      "====================\n",
      "input: independant\n",
      "pred: independent\n",
      "target: independent\n",
      "====================\n",
      "input: aranged\n",
      "pred: arranged\n",
      "target: arranged\n",
      "====================\n",
      "input: poartry\n",
      "pred: porty\n",
      "target: poetry\n",
      "====================\n",
      "input: leval\n",
      "pred: level\n",
      "target: level\n",
      "====================\n",
      "input: basicaly\n",
      "pred: basically\n",
      "target: basically\n",
      "====================\n",
      "input: triangulaur\n",
      "pred: triangular\n",
      "target: triangular\n",
      "====================\n",
      "input: unexpcted\n",
      "pred: unexpected\n",
      "target: unexpected\n",
      "====================\n",
      "input: stanerdizing\n",
      "pred: standardizing\n",
      "target: standardizing\n",
      "====================\n",
      "input: varable\n",
      "pred: variable\n",
      "target: variable\n",
      "====================\n",
      "input: neigbours\n",
      "pred: neighbours\n",
      "target: neighbours\n",
      "====================\n",
      "input: enxt\n",
      "pred: next\n",
      "target: next\n",
      "====================\n",
      "input: powerfull\n",
      "pred: powerful\n",
      "target: powerful\n",
      "====================\n",
      "input: practial\n",
      "pred: practical\n",
      "target: practical\n",
      "====================\n",
      "input: repatition\n",
      "pred: repetition\n",
      "target: repartition\n",
      "====================\n",
      "input: repentence\n",
      "pred: repentance\n",
      "target: repentance\n",
      "====================\n",
      "input: substracts\n",
      "pred: subtracts\n",
      "target: subtracts\n",
      "====================\n",
      "input: beed\n",
      "pred: bead\n",
      "target: bead\n",
      "====================\n",
      "input: beame\n",
      "pred: beam\n",
      "target: beam\n",
      "====================\n",
      "input: decieve\n",
      "pred: deceive\n",
      "target: deceive\n",
      "====================\n",
      "input: decant\n",
      "pred: decent\n",
      "target: decent\n",
      "====================\n",
      "input: dag\n",
      "pred: dog\n",
      "target: dog\n",
      "====================\n",
      "input: daing\n",
      "pred: doing\n",
      "target: doing\n",
      "====================\n",
      "input: expence\n",
      "pred: expense\n",
      "target: expense\n",
      "====================\n",
      "input: feirce\n",
      "pred: fierce\n",
      "target: fierce\n",
      "====================\n",
      "input: firery\n",
      "pred: fiery\n",
      "target: fiery\n",
      "====================\n",
      "input: fought\n",
      "pred: fort\n",
      "target: fort\n",
      "====================\n",
      "input: fourth\n",
      "pred: forth\n",
      "target: forth\n",
      "====================\n",
      "input: ham\n",
      "pred: harm\n",
      "target: harm\n",
      "====================\n",
      "input: havest\n",
      "pred: harvest\n",
      "target: harvest\n",
      "====================\n",
      "input: immdiately\n",
      "pred: immediately\n",
      "target: immediately\n",
      "====================\n",
      "input: inehaustible\n",
      "pred: inexhaustible\n",
      "target: inexhaustible\n",
      "====================\n",
      "input: journel\n",
      "pred: journal\n",
      "target: journal\n",
      "====================\n",
      "input: leason\n",
      "pred: lesson\n",
      "target: lesson\n",
      "====================\n",
      "input: mantain\n",
      "pred: maintain\n",
      "target: maintain\n",
      "====================\n",
      "input: miricle\n",
      "pred: miracle\n",
      "target: miracle\n",
      "====================\n",
      "input: oportunity\n",
      "pred: opportunity\n",
      "target: opportunity\n",
      "====================\n",
      "input: parenthasis\n",
      "pred: parenthesis\n",
      "target: parenthesis\n",
      "====================\n",
      "input: recetion\n",
      "pred: recession\n",
      "target: recession\n",
      "====================\n",
      "input: scadual\n",
      "pred: schedule\n",
      "target: schedule\n",
      "Bleu-4 score: 0.9742, Accuracy: 0.9600\n"
     ]
    }
   ],
   "source": [
    "val_acc, val_loss, val_bleu = validation(valloader, model, device, logout = True)\n",
    "print(f'Bleu-4 score:{val_bleu: .4f}, Accuracy:{val_acc / 100: .4f}')"
   ]
  },
  {
   "cell_type": "code",
   "execution_count": 17,
   "metadata": {},
   "outputs": [
    {
     "name": "stdout",
     "output_type": "stream",
     "text": [
      "====================\n",
      "input: apreciate\n",
      "pred: appreciate\n",
      "target: appreciate\n",
      "====================\n",
      "input: appeciate\n",
      "pred: appreciate\n",
      "target: appreciate\n",
      "====================\n",
      "input: apprciate\n",
      "pred: approximate\n",
      "target: appreciate\n",
      "====================\n",
      "input: apprecate\n",
      "pred: apprecte\n",
      "target: appreciate\n",
      "====================\n",
      "input: apprecite\n",
      "pred: apprecite\n",
      "target: appreciate\n",
      "====================\n",
      "input: luve\n",
      "pred: love\n",
      "target: love\n",
      "====================\n",
      "input: culd\n",
      "pred: culd\n",
      "target: cold\n",
      "====================\n",
      "input: heart\n",
      "pred: heart\n",
      "target: heart\n",
      "====================\n",
      "input: televiseon\n",
      "pred: television\n",
      "target: television\n",
      "====================\n",
      "input: thone\n",
      "pred: phone\n",
      "target: phone\n",
      "====================\n",
      "input: phace\n",
      "pred: pach\n",
      "target: phase\n",
      "====================\n",
      "input: poam\n",
      "pred: ponim\n",
      "target: poem\n",
      "====================\n",
      "input: tomorraw\n",
      "pred: tomorraw\n",
      "target: tomorrow\n",
      "====================\n",
      "input: presishan\n",
      "pred: presition\n",
      "target: precision\n",
      "====================\n",
      "input: presishion\n",
      "pred: precision\n",
      "target: precision\n",
      "====================\n",
      "input: presisian\n",
      "pred: presisian\n",
      "target: precision\n",
      "====================\n",
      "input: presistion\n",
      "pred: presition\n",
      "target: precision\n",
      "====================\n",
      "input: perver\n",
      "pred: prever\n",
      "target: prefer\n",
      "====================\n",
      "input: predgudice\n",
      "pred: progudice\n",
      "target: prejudice\n",
      "====================\n",
      "input: predgudis\n",
      "pred: progheds\n",
      "target: prejudice\n",
      "====================\n",
      "input: recievor\n",
      "pred: receiver\n",
      "target: receiver\n",
      "====================\n",
      "input: reciover\n",
      "pred: recoiver\n",
      "target: receiver\n",
      "====================\n",
      "input: relieve\n",
      "pred: relieve\n",
      "target: relief\n",
      "====================\n",
      "input: togather\n",
      "pred: togater\n",
      "target: together\n",
      "====================\n",
      "input: remuttance\n",
      "pred: rompetance\n",
      "target: remittance\n",
      "====================\n",
      "input: deposite\n",
      "pred: deposit\n",
      "target: deposit\n",
      "====================\n",
      "input: deposittt\n",
      "pred: deposit\n",
      "target: deposit\n",
      "====================\n",
      "input: peper\n",
      "pred: pepper\n",
      "target: pepper\n",
      "====================\n",
      "input: pepperrr\n",
      "pred: peper\n",
      "target: pepper\n",
      "====================\n",
      "input: employe\n",
      "pred: employee\n",
      "target: employee\n",
      "====================\n",
      "input: employezz\n",
      "pred: employzes\n",
      "target: employee\n",
      "====================\n",
      "input: beest\n",
      "pred: beast\n",
      "target: best\n",
      "====================\n",
      "input: bestt\n",
      "pred: beast\n",
      "target: best\n",
      "====================\n",
      "input: aset\n",
      "pred: easte\n",
      "target: best\n",
      "====================\n",
      "input: feeture\n",
      "pred: feature\n",
      "target: feature\n",
      "====================\n",
      "input: faeture\n",
      "pred: feature\n",
      "target: feature\n",
      "====================\n",
      "input: featture\n",
      "pred: feature\n",
      "target: feature\n",
      "====================\n",
      "input: gorges\n",
      "pred: gorges\n",
      "target: gorgeous\n",
      "====================\n",
      "input: gorgeus\n",
      "pred: gorgeous\n",
      "target: gorgeous\n",
      "====================\n",
      "input: gourgace\n",
      "pred: gourge\n",
      "target: gorgeous\n",
      "====================\n",
      "input: gripe\n",
      "pred: grip\n",
      "target: grip\n",
      "====================\n",
      "input: hienous\n",
      "pred: heinous\n",
      "target: heinous\n",
      "====================\n",
      "input: hurple\n",
      "pred: purple\n",
      "target: purple\n",
      "====================\n",
      "input: occassional\n",
      "pred: occasional\n",
      "target: occasional\n",
      "====================\n",
      "input: tirumph\n",
      "pred: triumph\n",
      "target: triumph\n",
      "====================\n",
      "input: triam\n",
      "pred: triumph\n",
      "target: triumph\n",
      "====================\n",
      "input: unforgatealbe\n",
      "pred: unforgatoble\n",
      "target: unforgettable\n",
      "====================\n",
      "input: unforgattable\n",
      "pred: unforgatable\n",
      "target: unforgettable\n",
      "====================\n",
      "input: vesiable\n",
      "pred: visible\n",
      "target: visible\n",
      "====================\n",
      "input: visable\n",
      "pred: visible\n",
      "target: visible\n",
      "Bleu-4 score: 0.6675, Accuracy: 0.4800\n"
     ]
    }
   ],
   "source": [
    "test_acc, test_loss, test_bleu = validation(testloader, model, device, logout = True)\n",
    "print(f'Bleu-4 score:{test_bleu: .4f}, Accuracy:{test_acc / 100: .4f}')"
   ]
  },
  {
   "cell_type": "code",
   "execution_count": 14,
   "metadata": {},
   "outputs": [
    {
     "data": {
      "text/plain": [
       "<All keys matched successfully>"
      ]
     },
     "execution_count": 14,
     "metadata": {},
     "output_type": "execute_result"
    }
   ],
   "source": [
    "model.load_state_dict(torch.load('latest-model.pth'))"
   ]
  },
  {
   "cell_type": "code",
   "execution_count": 14,
   "metadata": {},
   "outputs": [],
   "source": [
    "m = torch.load('all_store.pth')\n",
    "epoch = m['epoch']\n",
    "train_losses = m['train_losses']\n",
    "val_losses = m['val_losses']\n",
    "test_losses = m['test_losses']\n",
    "val_bleus = m['val_bleus']\n",
    "test_bleus = m['test_bleus']\n",
    "val_accs = m['val_accs']\n",
    "test_accs = m['test_accs']"
   ]
  },
  {
   "cell_type": "code",
   "execution_count": 30,
   "metadata": {},
   "outputs": [
    {
     "name": "stdout",
     "output_type": "stream",
     "text": [
      "146.0\n",
      "78\n",
      "98.0\n",
      "48.0\n"
     ]
    }
   ],
   "source": [
    "# 平均準確率最高\n",
    "avg = []\n",
    "for i in range(len(val_accs)):\n",
    "    avg.append(val_accs[i] + test_accs[i])\n",
    "print(max(avg))\n",
    "print(avg.index(max(avg)))\n",
    "print(val_accs[78])\n",
    "print(test_accs[78])"
   ]
  },
  {
   "cell_type": "code",
   "execution_count": 31,
   "metadata": {},
   "outputs": [
    {
     "name": "stdout",
     "output_type": "stream",
     "text": [
      "98.0\n",
      "78\n",
      "48.0\n"
     ]
    }
   ],
   "source": [
    "# val_accs最高時的test_accs多少\n",
    "print(max(val_accs))\n",
    "print(val_accs.index(max(val_accs)))\n",
    "print(test_accs[78])"
   ]
  },
  {
   "cell_type": "code",
   "execution_count": 33,
   "metadata": {},
   "outputs": [
    {
     "name": "stdout",
     "output_type": "stream",
     "text": [
      "52.0\n",
      "113\n",
      "92.0\n"
     ]
    }
   ],
   "source": [
    "# test_accs最高時的val_accs多少\n",
    "print(max(test_accs))\n",
    "print(test_accs.index(max(test_accs)))\n",
    "print(val_accs[113])"
   ]
  },
  {
   "cell_type": "code",
   "execution_count": 18,
   "metadata": {},
   "outputs": [
    {
     "data": {
      "text/plain": [
       "<All keys matched successfully>"
      ]
     },
     "execution_count": 18,
     "metadata": {},
     "output_type": "execute_result"
    }
   ],
   "source": [
    "model.load_state_dict(torch.load('best-model-avg-acc.pth'))"
   ]
  },
  {
   "cell_type": "code",
   "execution_count": 19,
   "metadata": {},
   "outputs": [
    {
     "name": "stdout",
     "output_type": "stream",
     "text": [
      "====================\n",
      "input: contenpted\n",
      "pred: contented\n",
      "target: contented\n",
      "====================\n",
      "input: begining\n",
      "pred: beginning\n",
      "target: beginning\n",
      "====================\n",
      "input: problam\n",
      "pred: problem\n",
      "target: problem\n",
      "====================\n",
      "input: dirven\n",
      "pred: driven\n",
      "target: driven\n",
      "====================\n",
      "input: ecstacy\n",
      "pred: ecstasy\n",
      "target: ecstasy\n",
      "====================\n",
      "input: juce\n",
      "pred: juice\n",
      "target: juice\n",
      "====================\n",
      "input: localy\n",
      "pred: locally\n",
      "target: locally\n",
      "====================\n",
      "input: compair\n",
      "pred: compare\n",
      "target: compare\n",
      "====================\n",
      "input: pronounciation\n",
      "pred: pronunciation\n",
      "target: pronunciation\n",
      "====================\n",
      "input: transportibility\n",
      "pred: transportability\n",
      "target: transportability\n",
      "====================\n",
      "input: miniscule\n",
      "pred: minuscule\n",
      "target: minuscule\n",
      "====================\n",
      "input: independant\n",
      "pred: independent\n",
      "target: independent\n",
      "====================\n",
      "input: aranged\n",
      "pred: arranged\n",
      "target: arranged\n",
      "====================\n",
      "input: poartry\n",
      "pred: porty\n",
      "target: poetry\n",
      "====================\n",
      "input: leval\n",
      "pred: level\n",
      "target: level\n",
      "====================\n",
      "input: basicaly\n",
      "pred: basically\n",
      "target: basically\n",
      "====================\n",
      "input: triangulaur\n",
      "pred: triangular\n",
      "target: triangular\n",
      "====================\n",
      "input: unexpcted\n",
      "pred: unexpected\n",
      "target: unexpected\n",
      "====================\n",
      "input: stanerdizing\n",
      "pred: standardizing\n",
      "target: standardizing\n",
      "====================\n",
      "input: varable\n",
      "pred: variable\n",
      "target: variable\n",
      "====================\n",
      "input: neigbours\n",
      "pred: neighbours\n",
      "target: neighbours\n",
      "====================\n",
      "input: enxt\n",
      "pred: next\n",
      "target: next\n",
      "====================\n",
      "input: powerfull\n",
      "pred: powerful\n",
      "target: powerful\n",
      "====================\n",
      "input: practial\n",
      "pred: practical\n",
      "target: practical\n",
      "====================\n",
      "input: repatition\n",
      "pred: repartition\n",
      "target: repartition\n",
      "====================\n",
      "input: repentence\n",
      "pred: repentance\n",
      "target: repentance\n",
      "====================\n",
      "input: substracts\n",
      "pred: subtracts\n",
      "target: subtracts\n",
      "====================\n",
      "input: beed\n",
      "pred: bead\n",
      "target: bead\n",
      "====================\n",
      "input: beame\n",
      "pred: beam\n",
      "target: beam\n",
      "====================\n",
      "input: decieve\n",
      "pred: deceive\n",
      "target: deceive\n",
      "====================\n",
      "input: decant\n",
      "pred: decent\n",
      "target: decent\n",
      "====================\n",
      "input: dag\n",
      "pred: dog\n",
      "target: dog\n",
      "====================\n",
      "input: daing\n",
      "pred: doing\n",
      "target: doing\n",
      "====================\n",
      "input: expence\n",
      "pred: expense\n",
      "target: expense\n",
      "====================\n",
      "input: feirce\n",
      "pred: fierce\n",
      "target: fierce\n",
      "====================\n",
      "input: firery\n",
      "pred: fiery\n",
      "target: fiery\n",
      "====================\n",
      "input: fought\n",
      "pred: fort\n",
      "target: fort\n",
      "====================\n",
      "input: fourth\n",
      "pred: forth\n",
      "target: forth\n",
      "====================\n",
      "input: ham\n",
      "pred: harm\n",
      "target: harm\n",
      "====================\n",
      "input: havest\n",
      "pred: harvest\n",
      "target: harvest\n",
      "====================\n",
      "input: immdiately\n",
      "pred: immediately\n",
      "target: immediately\n",
      "====================\n",
      "input: inehaustible\n",
      "pred: inexhaustible\n",
      "target: inexhaustible\n",
      "====================\n",
      "input: journel\n",
      "pred: journal\n",
      "target: journal\n",
      "====================\n",
      "input: leason\n",
      "pred: lesson\n",
      "target: lesson\n",
      "====================\n",
      "input: mantain\n",
      "pred: maintain\n",
      "target: maintain\n",
      "====================\n",
      "input: miricle\n",
      "pred: miracle\n",
      "target: miracle\n",
      "====================\n",
      "input: oportunity\n",
      "pred: opportunity\n",
      "target: opportunity\n",
      "====================\n",
      "input: parenthasis\n",
      "pred: parenthesis\n",
      "target: parenthesis\n",
      "====================\n",
      "input: recetion\n",
      "pred: recession\n",
      "target: recession\n",
      "====================\n",
      "input: scadual\n",
      "pred: schedule\n",
      "target: schedule\n",
      "Bleu-4 score: 0.9823, Accuracy: 0.9800\n"
     ]
    }
   ],
   "source": [
    "val_acc, val_loss, val_bleu = validation(valloader, model, device, logout = True)\n",
    "print(f'Bleu-4 score:{val_bleu: .4f}, Accuracy:{val_acc / 100: .4f}')"
   ]
  },
  {
   "cell_type": "code",
   "execution_count": 20,
   "metadata": {},
   "outputs": [
    {
     "name": "stdout",
     "output_type": "stream",
     "text": [
      "====================\n",
      "input: apreciate\n",
      "pred: appreciate\n",
      "target: appreciate\n",
      "====================\n",
      "input: appeciate\n",
      "pred: appreciate\n",
      "target: appreciate\n",
      "====================\n",
      "input: apprciate\n",
      "pred: approximate\n",
      "target: appreciate\n",
      "====================\n",
      "input: apprecate\n",
      "pred: apprecriate\n",
      "target: appreciate\n",
      "====================\n",
      "input: apprecite\n",
      "pred: apprecite\n",
      "target: appreciate\n",
      "====================\n",
      "input: luve\n",
      "pred: love\n",
      "target: love\n",
      "====================\n",
      "input: culd\n",
      "pred: culd\n",
      "target: cold\n",
      "====================\n",
      "input: heart\n",
      "pred: heart\n",
      "target: heart\n",
      "====================\n",
      "input: televiseon\n",
      "pred: television\n",
      "target: television\n",
      "====================\n",
      "input: thone\n",
      "pred: thone\n",
      "target: phone\n",
      "====================\n",
      "input: phace\n",
      "pred: pack\n",
      "target: phase\n",
      "====================\n",
      "input: poam\n",
      "pred: poem\n",
      "target: poem\n",
      "====================\n",
      "input: tomorraw\n",
      "pred: tomorraw\n",
      "target: tomorrow\n",
      "====================\n",
      "input: presishan\n",
      "pred: presitian\n",
      "target: precision\n",
      "====================\n",
      "input: presishion\n",
      "pred: precision\n",
      "target: precision\n",
      "====================\n",
      "input: presisian\n",
      "pred: precisian\n",
      "target: precision\n",
      "====================\n",
      "input: presistion\n",
      "pred: presition\n",
      "target: precision\n",
      "====================\n",
      "input: perver\n",
      "pred: prever\n",
      "target: prefer\n",
      "====================\n",
      "input: predgudice\n",
      "pred: progudice\n",
      "target: prejudice\n",
      "====================\n",
      "input: predgudis\n",
      "pred: prognadis\n",
      "target: prejudice\n",
      "====================\n",
      "input: recievor\n",
      "pred: receiver\n",
      "target: receiver\n",
      "====================\n",
      "input: reciover\n",
      "pred: recoiver\n",
      "target: receiver\n",
      "====================\n",
      "input: relieve\n",
      "pred: relieve\n",
      "target: relief\n",
      "====================\n",
      "input: togather\n",
      "pred: togater\n",
      "target: together\n",
      "====================\n",
      "input: remuttance\n",
      "pred: rommutance\n",
      "target: remittance\n",
      "====================\n",
      "input: deposite\n",
      "pred: deposit\n",
      "target: deposit\n",
      "====================\n",
      "input: deposittt\n",
      "pred: deposit\n",
      "target: deposit\n",
      "====================\n",
      "input: peper\n",
      "pred: pepper\n",
      "target: pepper\n",
      "====================\n",
      "input: pepperrr\n",
      "pred: peperapr\n",
      "target: pepper\n",
      "====================\n",
      "input: employe\n",
      "pred: employee\n",
      "target: employee\n",
      "====================\n",
      "input: employezz\n",
      "pred: employeze\n",
      "target: employee\n",
      "====================\n",
      "input: beest\n",
      "pred: beast\n",
      "target: best\n",
      "====================\n",
      "input: bestt\n",
      "pred: best\n",
      "target: best\n",
      "====================\n",
      "input: aset\n",
      "pred: easte\n",
      "target: best\n",
      "====================\n",
      "input: feeture\n",
      "pred: feature\n",
      "target: feature\n",
      "====================\n",
      "input: faeture\n",
      "pred: fater\n",
      "target: feature\n",
      "====================\n",
      "input: featture\n",
      "pred: feature\n",
      "target: feature\n",
      "====================\n",
      "input: gorges\n",
      "pred: gorges\n",
      "target: gorgeous\n",
      "====================\n",
      "input: gorgeus\n",
      "pred: gorgeous\n",
      "target: gorgeous\n",
      "====================\n",
      "input: gourgace\n",
      "pred: gourge\n",
      "target: gorgeous\n",
      "====================\n",
      "input: gripe\n",
      "pred: grip\n",
      "target: grip\n",
      "====================\n",
      "input: hienous\n",
      "pred: heinous\n",
      "target: heinous\n",
      "====================\n",
      "input: hurple\n",
      "pred: purple\n",
      "target: purple\n",
      "====================\n",
      "input: occassional\n",
      "pred: occasional\n",
      "target: occasional\n",
      "====================\n",
      "input: tirumph\n",
      "pred: triumph\n",
      "target: triumph\n",
      "====================\n",
      "input: triam\n",
      "pred: triumph\n",
      "target: triumph\n",
      "====================\n",
      "input: unforgatealbe\n",
      "pred: unforgateable\n",
      "target: unforgettable\n",
      "====================\n",
      "input: unforgattable\n",
      "pred: unforgatable\n",
      "target: unforgettable\n",
      "====================\n",
      "input: vesiable\n",
      "pred: visible\n",
      "target: visible\n",
      "====================\n",
      "input: visable\n",
      "pred: visible\n",
      "target: visible\n",
      "Bleu-4 score: 0.6907, Accuracy: 0.4800\n"
     ]
    }
   ],
   "source": [
    "test_acc, test_loss, test_bleu = validation(testloader, model, device, logout = True)\n",
    "print(f'Bleu-4 score:{test_bleu: .4f}, Accuracy:{test_acc / 100: .4f}')"
   ]
  },
  {
   "cell_type": "code",
   "execution_count": null,
   "metadata": {},
   "outputs": [],
   "source": []
  }
 ],
 "metadata": {
  "kernelspec": {
   "display_name": "Python 3 (ipykernel)",
   "language": "python",
   "name": "python3"
  },
  "language_info": {
   "codemirror_mode": {
    "name": "ipython",
    "version": 3
   },
   "file_extension": ".py",
   "mimetype": "text/x-python",
   "name": "python",
   "nbconvert_exporter": "python",
   "pygments_lexer": "ipython3",
   "version": "3.8.10"
  }
 },
 "nbformat": 4,
 "nbformat_minor": 4
}
